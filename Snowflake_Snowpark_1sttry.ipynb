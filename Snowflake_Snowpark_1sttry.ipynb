{
  "nbformat": 4,
  "nbformat_minor": 0,
  "metadata": {
    "colab": {
      "provenance": [],
      "mount_file_id": "1vYkzJdo0xXVIkmtUqsY5luiSH9qZDoMA",
      "authorship_tag": "ABX9TyMjbeEwj0bT97W90jirxybb",
      "include_colab_link": true
    },
    "kernelspec": {
      "name": "python3",
      "display_name": "Python 3"
    },
    "language_info": {
      "name": "python"
    }
  },
  "cells": [
    {
      "cell_type": "markdown",
      "metadata": {
        "id": "view-in-github",
        "colab_type": "text"
      },
      "source": [
        "<a href=\"https://colab.research.google.com/github/manoharpavuluri/DE_SnowflakeSnowpark/blob/main/Snowflake_Snowpark_1sttry.ipynb\" target=\"_parent\"><img src=\"https://colab.research.google.com/assets/colab-badge.svg\" alt=\"Open In Colab\"/></a>"
      ]
    },
    {
      "cell_type": "markdown",
      "source": [
        "# **Installs**"
      ],
      "metadata": {
        "id": "VUSB-PHvITKu"
      }
    },
    {
      "cell_type": "code",
      "source": [
        "!pip install config\n",
        "!pip install snowflake\n",
        "!pip install pandas\n",
        "!pip install toml\n",
        "!pip install snowflake-snowpark-python\n",
        "\n"
      ],
      "metadata": {
        "colab": {
          "base_uri": "https://localhost:8080/"
        },
        "id": "gum9tWG5e1t8",
        "outputId": "d172e96f-577b-4e12-8bbd-1445b142a648"
      },
      "execution_count": 1,
      "outputs": [
        {
          "output_type": "stream",
          "name": "stdout",
          "text": [
            "Collecting config\n",
            "  Downloading config-0.5.1-py2.py3-none-any.whl.metadata (1.4 kB)\n",
            "Downloading config-0.5.1-py2.py3-none-any.whl (20 kB)\n",
            "Installing collected packages: config\n",
            "Successfully installed config-0.5.1\n",
            "Collecting snowflake\n",
            "  Downloading snowflake-0.13.0-py3-none-any.whl.metadata (2.0 kB)\n",
            "Collecting snowflake-core==0.13.0 (from snowflake)\n",
            "  Downloading snowflake_core-0.13.0-py3-none-any.whl.metadata (1.8 kB)\n",
            "Collecting snowflake-legacy (from snowflake)\n",
            "  Downloading snowflake_legacy-0.13.0-py3-none-any.whl.metadata (2.5 kB)\n",
            "Requirement already satisfied: atpublic>=4 in /usr/local/lib/python3.10/dist-packages (from snowflake-core==0.13.0->snowflake) (4.1.0)\n",
            "Requirement already satisfied: pydantic>=2 in /usr/local/lib/python3.10/dist-packages (from snowflake-core==0.13.0->snowflake) (2.9.2)\n",
            "Requirement already satisfied: python-dateutil>=2.8.2 in /usr/local/lib/python3.10/dist-packages (from snowflake-core==0.13.0->snowflake) (2.8.2)\n",
            "Requirement already satisfied: pyyaml in /usr/local/lib/python3.10/dist-packages (from snowflake-core==0.13.0->snowflake) (6.0.2)\n",
            "Requirement already satisfied: requests in /usr/local/lib/python3.10/dist-packages (from snowflake-core==0.13.0->snowflake) (2.32.3)\n",
            "Collecting snowflake-connector-python (from snowflake-core==0.13.0->snowflake)\n",
            "  Downloading snowflake_connector_python-3.12.2-cp310-cp310-manylinux_2_17_x86_64.manylinux2014_x86_64.whl.metadata (65 kB)\n",
            "\u001b[2K     \u001b[90m━━━━━━━━━━━━━━━━━━━━━━━━━━━━━━━━━━━━━━━━\u001b[0m \u001b[32m65.3/65.3 kB\u001b[0m \u001b[31m2.5 MB/s\u001b[0m eta \u001b[36m0:00:00\u001b[0m\n",
            "\u001b[?25hRequirement already satisfied: urllib3 in /usr/local/lib/python3.10/dist-packages (from snowflake-core==0.13.0->snowflake) (2.2.3)\n",
            "Requirement already satisfied: annotated-types>=0.6.0 in /usr/local/lib/python3.10/dist-packages (from pydantic>=2->snowflake-core==0.13.0->snowflake) (0.7.0)\n",
            "Requirement already satisfied: pydantic-core==2.23.4 in /usr/local/lib/python3.10/dist-packages (from pydantic>=2->snowflake-core==0.13.0->snowflake) (2.23.4)\n",
            "Requirement already satisfied: typing-extensions>=4.6.1 in /usr/local/lib/python3.10/dist-packages (from pydantic>=2->snowflake-core==0.13.0->snowflake) (4.12.2)\n",
            "Requirement already satisfied: six>=1.5 in /usr/local/lib/python3.10/dist-packages (from python-dateutil>=2.8.2->snowflake-core==0.13.0->snowflake) (1.16.0)\n",
            "Requirement already satisfied: charset-normalizer<4,>=2 in /usr/local/lib/python3.10/dist-packages (from requests->snowflake-core==0.13.0->snowflake) (3.3.2)\n",
            "Requirement already satisfied: idna<4,>=2.5 in /usr/local/lib/python3.10/dist-packages (from requests->snowflake-core==0.13.0->snowflake) (3.10)\n",
            "Requirement already satisfied: certifi>=2017.4.17 in /usr/local/lib/python3.10/dist-packages (from requests->snowflake-core==0.13.0->snowflake) (2024.8.30)\n",
            "Collecting asn1crypto<2.0.0,>0.24.0 (from snowflake-connector-python->snowflake-core==0.13.0->snowflake)\n",
            "  Downloading asn1crypto-1.5.1-py2.py3-none-any.whl.metadata (13 kB)\n",
            "Requirement already satisfied: cffi<2.0.0,>=1.9 in /usr/local/lib/python3.10/dist-packages (from snowflake-connector-python->snowflake-core==0.13.0->snowflake) (1.17.1)\n",
            "Requirement already satisfied: cryptography>=3.1.0 in /usr/local/lib/python3.10/dist-packages (from snowflake-connector-python->snowflake-core==0.13.0->snowflake) (43.0.1)\n",
            "Requirement already satisfied: pyOpenSSL<25.0.0,>=16.2.0 in /usr/local/lib/python3.10/dist-packages (from snowflake-connector-python->snowflake-core==0.13.0->snowflake) (24.2.1)\n",
            "Requirement already satisfied: pyjwt<3.0.0 in /usr/local/lib/python3.10/dist-packages (from snowflake-connector-python->snowflake-core==0.13.0->snowflake) (2.9.0)\n",
            "Requirement already satisfied: pytz in /usr/local/lib/python3.10/dist-packages (from snowflake-connector-python->snowflake-core==0.13.0->snowflake) (2024.2)\n",
            "Requirement already satisfied: packaging in /usr/local/lib/python3.10/dist-packages (from snowflake-connector-python->snowflake-core==0.13.0->snowflake) (24.1)\n",
            "Requirement already satisfied: filelock<4,>=3.5 in /usr/local/lib/python3.10/dist-packages (from snowflake-connector-python->snowflake-core==0.13.0->snowflake) (3.16.1)\n",
            "Requirement already satisfied: sortedcontainers>=2.4.0 in /usr/local/lib/python3.10/dist-packages (from snowflake-connector-python->snowflake-core==0.13.0->snowflake) (2.4.0)\n",
            "Requirement already satisfied: platformdirs<5.0.0,>=2.6.0 in /usr/local/lib/python3.10/dist-packages (from snowflake-connector-python->snowflake-core==0.13.0->snowflake) (4.3.6)\n",
            "Collecting tomlkit (from snowflake-connector-python->snowflake-core==0.13.0->snowflake)\n",
            "  Downloading tomlkit-0.13.2-py3-none-any.whl.metadata (2.7 kB)\n",
            "Requirement already satisfied: pycparser in /usr/local/lib/python3.10/dist-packages (from cffi<2.0.0,>=1.9->snowflake-connector-python->snowflake-core==0.13.0->snowflake) (2.22)\n",
            "Downloading snowflake-0.13.0-py3-none-any.whl (5.6 kB)\n",
            "Downloading snowflake_core-0.13.0-py3-none-any.whl (1.4 MB)\n",
            "\u001b[2K   \u001b[90m━━━━━━━━━━━━━━━━━━━━━━━━━━━━━━━━━━━━━━━━\u001b[0m \u001b[32m1.4/1.4 MB\u001b[0m \u001b[31m36.3 MB/s\u001b[0m eta \u001b[36m0:00:00\u001b[0m\n",
            "\u001b[?25hDownloading snowflake_legacy-0.13.0-py3-none-any.whl (3.1 kB)\n",
            "Downloading snowflake_connector_python-3.12.2-cp310-cp310-manylinux_2_17_x86_64.manylinux2014_x86_64.whl (2.5 MB)\n",
            "\u001b[2K   \u001b[90m━━━━━━━━━━━━━━━━━━━━━━━━━━━━━━━━━━━━━━━━\u001b[0m \u001b[32m2.5/2.5 MB\u001b[0m \u001b[31m33.9 MB/s\u001b[0m eta \u001b[36m0:00:00\u001b[0m\n",
            "\u001b[?25hDownloading asn1crypto-1.5.1-py2.py3-none-any.whl (105 kB)\n",
            "\u001b[2K   \u001b[90m━━━━━━━━━━━━━━━━━━━━━━━━━━━━━━━━━━━━━━━━\u001b[0m \u001b[32m105.0/105.0 kB\u001b[0m \u001b[31m7.2 MB/s\u001b[0m eta \u001b[36m0:00:00\u001b[0m\n",
            "\u001b[?25hDownloading tomlkit-0.13.2-py3-none-any.whl (37 kB)\n",
            "Installing collected packages: asn1crypto, tomlkit, snowflake-legacy, snowflake-connector-python, snowflake-core, snowflake\n",
            "Successfully installed asn1crypto-1.5.1 snowflake-0.13.0 snowflake-connector-python-3.12.2 snowflake-core-0.13.0 snowflake-legacy-0.13.0 tomlkit-0.13.2\n",
            "Requirement already satisfied: pandas in /usr/local/lib/python3.10/dist-packages (2.2.2)\n",
            "Requirement already satisfied: numpy>=1.22.4 in /usr/local/lib/python3.10/dist-packages (from pandas) (1.26.4)\n",
            "Requirement already satisfied: python-dateutil>=2.8.2 in /usr/local/lib/python3.10/dist-packages (from pandas) (2.8.2)\n",
            "Requirement already satisfied: pytz>=2020.1 in /usr/local/lib/python3.10/dist-packages (from pandas) (2024.2)\n",
            "Requirement already satisfied: tzdata>=2022.7 in /usr/local/lib/python3.10/dist-packages (from pandas) (2024.2)\n",
            "Requirement already satisfied: six>=1.5 in /usr/local/lib/python3.10/dist-packages (from python-dateutil>=2.8.2->pandas) (1.16.0)\n",
            "Requirement already satisfied: toml in /usr/local/lib/python3.10/dist-packages (0.10.2)\n",
            "Collecting snowflake-snowpark-python\n",
            "  Downloading snowflake_snowpark_python-1.22.1-py3-none-any.whl.metadata (94 kB)\n",
            "\u001b[2K     \u001b[90m━━━━━━━━━━━━━━━━━━━━━━━━━━━━━━━━━━━━━━━━\u001b[0m \u001b[32m94.6/94.6 kB\u001b[0m \u001b[31m4.8 MB/s\u001b[0m eta \u001b[36m0:00:00\u001b[0m\n",
            "\u001b[?25hRequirement already satisfied: setuptools>=40.6.0 in /usr/local/lib/python3.10/dist-packages (from snowflake-snowpark-python) (71.0.4)\n",
            "Requirement already satisfied: wheel in /usr/local/lib/python3.10/dist-packages (from snowflake-snowpark-python) (0.44.0)\n",
            "Requirement already satisfied: snowflake-connector-python<4.0.0,>=3.10.0 in /usr/local/lib/python3.10/dist-packages (from snowflake-snowpark-python) (3.12.2)\n",
            "Requirement already satisfied: typing-extensions<5.0.0,>=4.1.0 in /usr/local/lib/python3.10/dist-packages (from snowflake-snowpark-python) (4.12.2)\n",
            "Requirement already satisfied: pyyaml in /usr/local/lib/python3.10/dist-packages (from snowflake-snowpark-python) (6.0.2)\n",
            "Requirement already satisfied: cloudpickle!=2.1.0,!=2.2.0,<=2.2.1,>=1.6.0 in /usr/local/lib/python3.10/dist-packages (from snowflake-snowpark-python) (2.2.1)\n",
            "Requirement already satisfied: asn1crypto<2.0.0,>0.24.0 in /usr/local/lib/python3.10/dist-packages (from snowflake-connector-python<4.0.0,>=3.10.0->snowflake-snowpark-python) (1.5.1)\n",
            "Requirement already satisfied: cffi<2.0.0,>=1.9 in /usr/local/lib/python3.10/dist-packages (from snowflake-connector-python<4.0.0,>=3.10.0->snowflake-snowpark-python) (1.17.1)\n",
            "Requirement already satisfied: cryptography>=3.1.0 in /usr/local/lib/python3.10/dist-packages (from snowflake-connector-python<4.0.0,>=3.10.0->snowflake-snowpark-python) (43.0.1)\n",
            "Requirement already satisfied: pyOpenSSL<25.0.0,>=16.2.0 in /usr/local/lib/python3.10/dist-packages (from snowflake-connector-python<4.0.0,>=3.10.0->snowflake-snowpark-python) (24.2.1)\n",
            "Requirement already satisfied: pyjwt<3.0.0 in /usr/local/lib/python3.10/dist-packages (from snowflake-connector-python<4.0.0,>=3.10.0->snowflake-snowpark-python) (2.9.0)\n",
            "Requirement already satisfied: pytz in /usr/local/lib/python3.10/dist-packages (from snowflake-connector-python<4.0.0,>=3.10.0->snowflake-snowpark-python) (2024.2)\n",
            "Requirement already satisfied: requests<3.0.0 in /usr/local/lib/python3.10/dist-packages (from snowflake-connector-python<4.0.0,>=3.10.0->snowflake-snowpark-python) (2.32.3)\n",
            "Requirement already satisfied: packaging in /usr/local/lib/python3.10/dist-packages (from snowflake-connector-python<4.0.0,>=3.10.0->snowflake-snowpark-python) (24.1)\n",
            "Requirement already satisfied: charset-normalizer<4,>=2 in /usr/local/lib/python3.10/dist-packages (from snowflake-connector-python<4.0.0,>=3.10.0->snowflake-snowpark-python) (3.3.2)\n",
            "Requirement already satisfied: idna<4,>=2.5 in /usr/local/lib/python3.10/dist-packages (from snowflake-connector-python<4.0.0,>=3.10.0->snowflake-snowpark-python) (3.10)\n",
            "Requirement already satisfied: certifi>=2017.4.17 in /usr/local/lib/python3.10/dist-packages (from snowflake-connector-python<4.0.0,>=3.10.0->snowflake-snowpark-python) (2024.8.30)\n",
            "Requirement already satisfied: filelock<4,>=3.5 in /usr/local/lib/python3.10/dist-packages (from snowflake-connector-python<4.0.0,>=3.10.0->snowflake-snowpark-python) (3.16.1)\n",
            "Requirement already satisfied: sortedcontainers>=2.4.0 in /usr/local/lib/python3.10/dist-packages (from snowflake-connector-python<4.0.0,>=3.10.0->snowflake-snowpark-python) (2.4.0)\n",
            "Requirement already satisfied: platformdirs<5.0.0,>=2.6.0 in /usr/local/lib/python3.10/dist-packages (from snowflake-connector-python<4.0.0,>=3.10.0->snowflake-snowpark-python) (4.3.6)\n",
            "Requirement already satisfied: tomlkit in /usr/local/lib/python3.10/dist-packages (from snowflake-connector-python<4.0.0,>=3.10.0->snowflake-snowpark-python) (0.13.2)\n",
            "Requirement already satisfied: pycparser in /usr/local/lib/python3.10/dist-packages (from cffi<2.0.0,>=1.9->snowflake-connector-python<4.0.0,>=3.10.0->snowflake-snowpark-python) (2.22)\n",
            "Requirement already satisfied: urllib3<3,>=1.21.1 in /usr/local/lib/python3.10/dist-packages (from requests<3.0.0->snowflake-connector-python<4.0.0,>=3.10.0->snowflake-snowpark-python) (2.2.3)\n",
            "Downloading snowflake_snowpark_python-1.22.1-py3-none-any.whl (1.3 MB)\n",
            "\u001b[2K   \u001b[90m━━━━━━━━━━━━━━━━━━━━━━━━━━━━━━━━━━━━━━━━\u001b[0m \u001b[32m1.3/1.3 MB\u001b[0m \u001b[31m31.0 MB/s\u001b[0m eta \u001b[36m0:00:00\u001b[0m\n",
            "\u001b[?25hInstalling collected packages: snowflake-snowpark-python\n",
            "Successfully installed snowflake-snowpark-python-1.22.1\n"
          ]
        }
      ]
    },
    {
      "cell_type": "markdown",
      "source": [
        "# **Imports**"
      ],
      "metadata": {
        "id": "b8IGPIzBIY_W"
      }
    },
    {
      "cell_type": "code",
      "execution_count": 2,
      "metadata": {
        "id": "r25YkqGZeeZM"
      },
      "outputs": [],
      "source": [
        "import configparser\n",
        "import os\n",
        "import subprocess"
      ]
    },
    {
      "cell_type": "code",
      "source": [
        "from snowflake.snowpark import Session\n",
        "from snowflake.snowpark.functions import *\n",
        "from snowflake.snowpark.types import *\n",
        "import pandas as pd\n",
        "import toml\n",
        "import datetime\n"
      ],
      "metadata": {
        "id": "AGri6Leoewli"
      },
      "execution_count": 3,
      "outputs": []
    },
    {
      "cell_type": "markdown",
      "source": [
        "# **Adding Config.ini to .gitignore**"
      ],
      "metadata": {
        "id": "jLdKUAXEfu0M"
      }
    },
    {
      "cell_type": "code",
      "source": [
        "# to create or update .gitignore\n",
        "def update_gitignore(file_name):\n",
        "  with open('.gitignore', 'a') as gitignore_file:\n",
        "    gitignore_file.write(f\"{file_name}\\n\")\n",
        "\n",
        "# to untrake a file\n",
        "def untrack_file(file_name):\n",
        "  subprocess.run(['git', 'rm', '--cached', file_name])\n"
      ],
      "metadata": {
        "id": "h-lD-2VbWMzX"
      },
      "execution_count": 4,
      "outputs": []
    },
    {
      "cell_type": "code",
      "source": [
        "# Update .gitignore\n",
        "update_gitignore('/content/drive/MyDrive/Colab Notebooks/Snowflake_Snowpark_1sttry_config.toml')\n",
        "\n",
        "# Untrack the config.ini file if it exists\n",
        "if os.path.exists('/content/drive/MyDrive/Colab Notebooks/Snowflake_Snowpark_1sttry_config.toml'):\n",
        "    untrack_file('/content/drive/MyDrive/Colab Notebooks/Snowflake_Snowpark_1sttry_config.ini')"
      ],
      "metadata": {
        "id": "3bMp1h6Tf9e0"
      },
      "execution_count": 5,
      "outputs": []
    },
    {
      "cell_type": "markdown",
      "source": [
        "# **Snowflake Session**"
      ],
      "metadata": {
        "id": "gBhWA1jgQn8-"
      }
    },
    {
      "cell_type": "code",
      "source": [
        "# Read the configuration file using toml library\n",
        "config = toml.load('/content/drive/MyDrive/Colab Notebooks/Snowflake_Snowpark_1sttry_config.toml')\n",
        "\n",
        "# Check if any sections were loaded\n",
        "if config.items():\n",
        "    print(\"Sections found in Snowflake_Snowpark_1sttry_config.ini:\", config.keys())\n",
        "else:\n",
        "    print(\"No sections found in Snowflake_Snowpark_1sttry_config.ini.\")"
      ],
      "metadata": {
        "colab": {
          "base_uri": "https://localhost:8080/"
        },
        "id": "SYhbmWT4zGEh",
        "outputId": "42edc51f-caa7-4d92-8e26-8eb77280258a"
      },
      "execution_count": 6,
      "outputs": [
        {
          "output_type": "stream",
          "name": "stdout",
          "text": [
            "Sections found in Snowflake_Snowpark_1sttry_config.ini: dict_keys(['snowflake'])\n"
          ]
        }
      ]
    },
    {
      "cell_type": "code",
      "source": [
        "\n",
        "# Prepare the connection parameters\n",
        "connection_parameters = {\n",
        "    \"account\": config['snowflake']['account'],\n",
        "    \"user\": config['snowflake']['user'],\n",
        "    \"password\": config['snowflake']['password'],\n",
        "    \"role\": config['snowflake']['role'],\n",
        "    \"warehouse\": config['snowflake']['warehouse'],\n",
        "    \"database\": config['snowflake']['database'],\n",
        "    \"schema\": config['snowflake']['schema']\n",
        "}\n",
        "\n",
        "# Attempt to create the Snowpark session\n",
        "try:\n",
        "    session = Session.builder.configs(connection_parameters).create()\n",
        "    print(\"Successfully connected to Snowflake.\")\n",
        "except Exception as e:\n",
        "    print(\"Error connecting to Snowflake:\", e)"
      ],
      "metadata": {
        "colab": {
          "base_uri": "https://localhost:8080/"
        },
        "id": "_EjS5sH95QXT",
        "outputId": "9c53a850-1ec1-4991-c64a-5bdc15abee60"
      },
      "execution_count": 7,
      "outputs": [
        {
          "output_type": "stream",
          "name": "stdout",
          "text": [
            "Successfully connected to Snowflake.\n"
          ]
        }
      ]
    },
    {
      "cell_type": "code",
      "source": [
        "# Commit changes to .gitignore\n",
        "subprocess.run(['git', 'add', '.gitignore'])\n",
        "subprocess.run(['git', 'commit', '-m', 'Update .gitignore to exclude config.ini'])\n",
        "\n",
        "# Optional: Push to GitHub (Make sure you have set up remote and authenticated)\n",
        "# subprocess.run(['git', 'push', 'origin', 'main'])  # Uncomment this if you want to push\n",
        "\n",
        "print(\"Snowpark session created and .gitignore updated.\")"
      ],
      "metadata": {
        "id": "VxE5ZT5We0nB",
        "colab": {
          "base_uri": "https://localhost:8080/"
        },
        "outputId": "9f6a22e3-5bf6-4182-be54-06d03d90e68d"
      },
      "execution_count": 8,
      "outputs": [
        {
          "output_type": "stream",
          "name": "stdout",
          "text": [
            "Snowpark session created and .gitignore updated.\n"
          ]
        }
      ]
    },
    {
      "cell_type": "markdown",
      "source": [
        "# **Data**"
      ],
      "metadata": {
        "id": "ezJtLmXv53VP"
      }
    },
    {
      "cell_type": "code",
      "source": [
        "# form the query\n",
        "showtables_qry = \"\"\"\n",
        "SELECT TABLE_NAME\n",
        "FROM INFORMATION_SCHEMA.TABLES\n",
        "WHERE TABLE_TYPE = 'BASE TABLE'\n",
        "AND TABLE_CATALOG = 'DE_PROJECT'\n",
        "\"\"\"\n",
        "\n",
        "# run the query\n",
        "showtables_qry_result = session.sql(showtables_qry).collect()\n",
        "\n",
        "# show tables\n",
        "\n",
        "for row in showtables_qry_result:\n",
        "  print(row[0])\n"
      ],
      "metadata": {
        "colab": {
          "base_uri": "https://localhost:8080/"
        },
        "id": "lMXKsE1z51-U",
        "outputId": "2fcc8c65-4c39-4e95-cab4-9e0aaaef6b94"
      },
      "execution_count": 9,
      "outputs": [
        {
          "output_type": "stream",
          "name": "stdout",
          "text": [
            "RAW_CREDITCO_SALES\n",
            "RAW_CREDITCO_SALES_ITEMS\n",
            "SALES_ITEMS\n"
          ]
        }
      ]
    },
    {
      "cell_type": "code",
      "source": [
        "sales = session.table(\"RAW_CREDITCO_SALES\")\n",
        "sales.show()"
      ],
      "metadata": {
        "colab": {
          "base_uri": "https://localhost:8080/"
        },
        "id": "RC7YUtg4_F-J",
        "outputId": "fbe84af4-560f-4041-874a-82b8c14f2d4e"
      },
      "execution_count": 10,
      "outputs": [
        {
          "output_type": "stream",
          "name": "stdout",
          "text": [
            "----------------------------------------------------------------------------------------------------\n",
            "|\"INGESTION_ID\"  |\"INGESTED_AT\"               |\"DATA\"                                              |\n",
            "----------------------------------------------------------------------------------------------------\n",
            "|1               |2024-10-03 22:42:16.929000  |[                                                   |\n",
            "|                |                            |  {                                                 |\n",
            "|                |                            |    \"creditCardNumber\": \"30211992825494\",           |\n",
            "|                |                            |    \"creditCardType\": \"diners-club-carte-blanche\",  |\n",
            "|                |                            |    \"dateTime\": \"2022-04-06 12:24:38\",              |\n",
            "|                |                            |    \"id\": \"bad9cffb24fd560624859ae0c21f9135f5b0...  |\n",
            "|                |                            |    \"saleAmount\": 302.2                             |\n",
            "|                |                            |  },                                                |\n",
            "|                |                            |  {                                                 |\n",
            "|                |                            |    \"creditCardNumber\": \"4405443328071522\",         |\n",
            "|                |                            |    \"creditCardType\": \"visa-electron\",              |\n",
            "|                |                            |    \"dateTime\": \"2023-02-16 10:21:46\",              |\n",
            "|                |                            |    \"id\": \"f70a7d8263289ad52bc948916d4532521539...  |\n",
            "|                |                            |    \"saleAmount\": 279.17                            |\n",
            "|                |                            |  },                                                |\n",
            "|                |                            |  {                                                 |\n",
            "|                |                            |    \"creditCardNumber\": \"3579855610552574\",         |\n",
            "|                |                            |    \"creditCardType\": \"jcb\",                        |\n",
            "|                |                            |    \"dateTime\": \"2022-06-01 23:16:18\",              |\n",
            "|                |                            |    \"id\": \"fb992d6a592ee80769f142fdaeb6334269f1...  |\n",
            "|                |                            |    \"saleAmount\": 445.47                            |\n",
            "|                |                            |  },                                                |\n",
            "|                |                            |  {                                                 |\n",
            "|                |                            |    \"creditCardNumber\": \"50383603573914002\",        |\n",
            "|                |                            |    \"creditCardType\": \"maestro\",                    |\n",
            "|                |                            |    \"dateTime\": \"2022-06-29 01:56:53\",              |\n",
            "|                |                            |    \"id\": \"6dbdd40dfd3839e4da175301450ed500f6f7...  |\n",
            "|                |                            |    \"saleAmount\": 73.93                             |\n",
            "|                |                            |  },                                                |\n",
            "|                |                            |  {                                                 |\n",
            "|                |                            |    \"creditCardNumber\": \"5602228690840960\",         |\n",
            "|                |                            |    \"creditCardType\": \"bankcard\",                   |\n",
            "|                |                            |    \"dateTime\": \"2022-10-16 22:37:15\",              |\n",
            "|                |                            |    \"id\": \"e102d3a60180098cd3fcdbf5e08e461636ca...  |\n",
            "|                |                            |    \"saleAmount\": 640.69                            |\n",
            "|                |                            |  },                                                |\n",
            "|                |                            |  {                                                 |\n",
            "|                |                            |    \"creditCardNumber\": \"5100144013918382\",         |\n",
            "|                |                            |    \"creditCardType\": \"mastercard\",                 |\n",
            "|                |                            |    \"dateTime\": \"2023-01-18 21:32:30\",              |\n",
            "|                |                            |    \"id\": \"5291eb78808684cde42217736715cb29fb8a...  |\n",
            "|                |                            |    \"saleAmount\": 212.51                            |\n",
            "|                |                            |  },                                                |\n",
            "|                |                            |  {                                                 |\n",
            "|                |                            |    \"creditCardNumber\": \"3566731438126971\",         |\n",
            "|                |                            |    \"creditCardType\": \"jcb\",                        |\n",
            "|                |                            |    \"dateTime\": \"2022-05-22 22:17:52\",              |\n",
            "|                |                            |    \"id\": \"be52606565faf06a546ca1eaf1873f2cbf4d...  |\n",
            "|                |                            |    \"saleAmount\": 633.21                            |\n",
            "|                |                            |  },                                                |\n",
            "|                |                            |  {                                                 |\n",
            "|                |                            |    \"creditCardNumber\": \"3552372594286931\",         |\n",
            "|                |                            |    \"creditCardType\": \"jcb\",                        |\n",
            "|                |                            |    \"dateTime\": \"2022-12-15 01:17:57\",              |\n",
            "|                |                            |    \"id\": \"eeb62e335642e773c8c1ced13fe86c06e96d...  |\n",
            "|                |                            |    \"saleAmount\": 359.57                            |\n",
            "|                |                            |  },                                                |\n",
            "|                |                            |  {                                                 |\n",
            "|                |                            |    \"creditCardNumber\": \"5038306986883304079\",      |\n",
            "|                |                            |    \"creditCardType\": \"maestro\",                    |\n",
            "|                |                            |    \"dateTime\": \"2023-01-03 10:05:00\",              |\n",
            "|                |                            |    \"id\": \"ad187740d176791cd73aab91956c78974b72...  |\n",
            "|                |                            |    \"saleAmount\": 208.23                            |\n",
            "|                |                            |  },                                                |\n",
            "|                |                            |  {                                                 |\n",
            "|                |                            |    \"creditCardNumber\": \"3535351427856427\",         |\n",
            "|                |                            |    \"creditCardType\": \"jcb\",                        |\n",
            "|                |                            |    \"dateTime\": \"2022-08-31 13:54:49\",              |\n",
            "|                |                            |    \"id\": \"61d49b03b011efc73e536560cc43f1d6c3a5...  |\n",
            "|                |                            |    \"saleAmount\": 725.71                            |\n",
            "|                |                            |  }                                                 |\n",
            "|                |                            |]                                                   |\n",
            "|2               |2024-10-03 22:42:16.929000  |[                                                   |\n",
            "|                |                            |  {                                                 |\n",
            "|                |                            |    \"creditCardNumber\": \"5508176932162294\",         |\n",
            "|                |                            |    \"creditCardType\": \"mastercard\",                 |\n",
            "|                |                            |    \"dateTime\": \"2022-05-05 23:57:28\",              |\n",
            "|                |                            |    \"id\": \"6929f37efca77ca1183de291878aeb01df7f...  |\n",
            "|                |                            |    \"saleAmount\": 104.31                            |\n",
            "|                |                            |  },                                                |\n",
            "|                |                            |  {                                                 |\n",
            "|                |                            |    \"creditCardNumber\": \"5100170235305322\",         |\n",
            "|                |                            |    \"creditCardType\": \"mastercard\",                 |\n",
            "|                |                            |    \"dateTime\": \"2022-11-17 15:32:08\",              |\n",
            "|                |                            |    \"id\": \"bc91529cf8c5dc0177f4187a7ac291343cf1...  |\n",
            "|                |                            |    \"saleAmount\": 507.77                            |\n",
            "|                |                            |  },                                                |\n",
            "|                |                            |  {                                                 |\n",
            "|                |                            |    \"creditCardNumber\": \"3589433589169560\",         |\n",
            "|                |                            |    \"creditCardType\": \"jcb\",                        |\n",
            "|                |                            |    \"dateTime\": \"2023-02-15 10:07:31\",              |\n",
            "|                |                            |    \"id\": \"d6a5a2c3ceb5ffe288a16dd16ff55e243d4d...  |\n",
            "|                |                            |    \"saleAmount\": 170.02                            |\n",
            "|                |                            |  },                                                |\n",
            "|                |                            |  {                                                 |\n",
            "|                |                            |    \"creditCardNumber\": \"3555586629098303\",         |\n",
            "|                |                            |    \"creditCardType\": \"jcb\",                        |\n",
            "|                |                            |    \"dateTime\": \"2023-01-04 01:34:06\",              |\n",
            "|                |                            |    \"id\": \"b076f6b41e238c45e63c7fe4d1f66fdda1d1...  |\n",
            "|                |                            |    \"saleAmount\": 501.04                            |\n",
            "|                |                            |  },                                                |\n",
            "|                |                            |  {                                                 |\n",
            "|                |                            |    \"creditCardNumber\": \"6706100376371730\",         |\n",
            "|                |                            |    \"creditCardType\": \"laser\",                      |\n",
            "|                |                            |    \"dateTime\": \"2022-05-12 06:00:46\",              |\n",
            "|                |                            |    \"id\": \"1f57f83f7b42aa8a986d4b01f2b996669a75...  |\n",
            "|                |                            |    \"saleAmount\": 129.57                            |\n",
            "|                |                            |  },                                                |\n",
            "|                |                            |  {                                                 |\n",
            "|                |                            |    \"creditCardNumber\": \"5602247780904171\",         |\n",
            "|                |                            |    \"creditCardType\": \"bankcard\",                   |\n",
            "|                |                            |    \"dateTime\": \"2022-07-17 15:16:38\",              |\n",
            "|                |                            |    \"id\": \"6eda427326d9a3829621e73afb28ec924c86...  |\n",
            "|                |                            |    \"saleAmount\": 243.89                            |\n",
            "|                |                            |  },                                                |\n",
            "|                |                            |  {                                                 |\n",
            "|                |                            |    \"creditCardNumber\": \"3565858283414805\",         |\n",
            "|                |                            |    \"creditCardType\": \"jcb\",                        |\n",
            "|                |                            |    \"dateTime\": \"2023-01-18 23:34:03\",              |\n",
            "|                |                            |    \"id\": \"06db982c6bf7d306cf16af3cd01316e3aefb...  |\n",
            "|                |                            |    \"saleAmount\": 505.83                            |\n",
            "|                |                            |  },                                                |\n",
            "|                |                            |  {                                                 |\n",
            "|                |                            |    \"creditCardNumber\": \"5641828030448807704\",      |\n",
            "|                |                            |    \"creditCardType\": \"switch\",                     |\n",
            "|                |                            |    \"dateTime\": \"2022-10-06 00:06:08\",              |\n",
            "|                |                            |    \"id\": \"8980dbde6642088242b8bf93e23d65d19c08...  |\n",
            "|                |                            |    \"saleAmount\": 614.5                             |\n",
            "|                |                            |  },                                                |\n",
            "|                |                            |  {                                                 |\n",
            "|                |                            |    \"creditCardNumber\": \"5108758559774396\",         |\n",
            "|                |                            |    \"creditCardType\": \"mastercard\",                 |\n",
            "|                |                            |    \"dateTime\": \"2022-11-07 13:12:44\",              |\n",
            "|                |                            |    \"id\": \"3e6d96ba37a3b92db0ebed1650da15ce078a...  |\n",
            "|                |                            |    \"saleAmount\": 729.55                            |\n",
            "|                |                            |  },                                                |\n",
            "|                |                            |  {                                                 |\n",
            "|                |                            |    \"creditCardNumber\": \"3531925498468842\",         |\n",
            "|                |                            |    \"creditCardType\": \"jcb\",                        |\n",
            "|                |                            |    \"dateTime\": \"2022-12-09 21:29:21\",              |\n",
            "|                |                            |    \"id\": \"f03665c549c08f30e5b319f72c744d11b81a...  |\n",
            "|                |                            |    \"saleAmount\": 609.49                            |\n",
            "|                |                            |  }                                                 |\n",
            "|                |                            |]                                                   |\n",
            "|3               |2024-10-03 22:42:16.929000  |[                                                   |\n",
            "|                |                            |  {                                                 |\n",
            "|                |                            |    \"creditCardNumber\": \"3577254950335455\",         |\n",
            "|                |                            |    \"creditCardType\": \"jcb\",                        |\n",
            "|                |                            |    \"dateTime\": \"2022-05-08 16:22:46\",              |\n",
            "|                |                            |    \"id\": \"ef9f2a1480245dcabe9a0028cf070c4c90e0...  |\n",
            "|                |                            |    \"saleAmount\": 302.38                            |\n",
            "|                |                            |  },                                                |\n",
            "|                |                            |  {                                                 |\n",
            "|                |                            |    \"creditCardNumber\": \"3554549240876508\",         |\n",
            "|                |                            |    \"creditCardType\": \"jcb\",                        |\n",
            "|                |                            |    \"dateTime\": \"2023-04-02 12:06:35\",              |\n",
            "|                |                            |    \"id\": \"40c139b8fa3ef091e6872e968d129bdea930...  |\n",
            "|                |                            |    \"saleAmount\": 147.71                            |\n",
            "|                |                            |  },                                                |\n",
            "|                |                            |  {                                                 |\n",
            "|                |                            |    \"creditCardNumber\": \"30266916616965\",           |\n",
            "|                |                            |    \"creditCardType\": \"diners-club-carte-blanche\",  |\n",
            "|                |                            |    \"dateTime\": \"2022-04-05 21:55:11\",              |\n",
            "|                |                            |    \"id\": \"455264f770f0bda6b412e399bb38acf4c7ff...  |\n",
            "|                |                            |    \"saleAmount\": 77.47                             |\n",
            "|                |                            |  },                                                |\n",
            "|                |                            |  {                                                 |\n",
            "|                |                            |    \"creditCardNumber\": \"633451185597375535\",       |\n",
            "|                |                            |    \"creditCardType\": \"solo\",                       |\n",
            "|                |                            |    \"dateTime\": \"2022-11-16 09:32:35\",              |\n",
            "|                |                            |    \"id\": \"b060f868e3e72b1989e3b2407193e4f8b62d...  |\n",
            "|                |                            |    \"saleAmount\": 430.19                            |\n",
            "|                |                            |  },                                                |\n",
            "|                |                            |  {                                                 |\n",
            "|                |                            |    \"creditCardNumber\": \"3534118906250666\",         |\n",
            "|                |                            |    \"creditCardType\": \"jcb\",                        |\n",
            "|                |                            |    \"dateTime\": \"2022-12-07 22:57:35\",              |\n",
            "|                |                            |    \"id\": \"99df14a00fb6f97e4c1c376bd9b5dc9b115f...  |\n",
            "|                |                            |    \"saleAmount\": 253.83                            |\n",
            "|                |                            |  },                                                |\n",
            "|                |                            |  {                                                 |\n",
            "|                |                            |    \"creditCardNumber\": \"3575177399469647\",         |\n",
            "|                |                            |    \"creditCardType\": \"jcb\",                        |\n",
            "|                |                            |    \"dateTime\": \"2023-02-11 20:01:45\",              |\n",
            "|                |                            |    \"id\": \"28f8f23c5c0b5bc4c9eda8abf96ffe9f36e1...  |\n",
            "|                |                            |    \"saleAmount\": 564.36                            |\n",
            "|                |                            |  },                                                |\n",
            "|                |                            |  {                                                 |\n",
            "|                |                            |    \"creditCardNumber\": \"6333020302312124279\",      |\n",
            "|                |                            |    \"creditCardType\": \"switch\",                     |\n",
            "|                |                            |    \"dateTime\": \"2023-03-09 11:22:30\",              |\n",
            "|                |                            |    \"id\": \"2ac5fe05ea1770a825e613e31e528f88af9c...  |\n",
            "|                |                            |    \"saleAmount\": 291.37                            |\n",
            "|                |                            |  },                                                |\n",
            "|                |                            |  {                                                 |\n",
            "|                |                            |    \"creditCardNumber\": \"3551078881931920\",         |\n",
            "|                |                            |    \"creditCardType\": \"jcb\",                        |\n",
            "|                |                            |    \"dateTime\": \"2023-02-12 22:10:49\",              |\n",
            "|                |                            |    \"id\": \"67059c95cb922cd9146cbb7cb550861d4373...  |\n",
            "|                |                            |    \"saleAmount\": 565.97                            |\n",
            "|                |                            |  },                                                |\n",
            "|                |                            |  {                                                 |\n",
            "|                |                            |    \"creditCardNumber\": \"3537111546909475\",         |\n",
            "|                |                            |    \"creditCardType\": \"jcb\",                        |\n",
            "|                |                            |    \"dateTime\": \"2023-03-16 06:46:57\",              |\n",
            "|                |                            |    \"id\": \"65c230303222a2466ead2a15b2210b933374...  |\n",
            "|                |                            |    \"saleAmount\": 209.55                            |\n",
            "|                |                            |  },                                                |\n",
            "|                |                            |  {                                                 |\n",
            "|                |                            |    \"creditCardNumber\": \"3557546242325275\",         |\n",
            "|                |                            |    \"creditCardType\": \"jcb\",                        |\n",
            "|                |                            |    \"dateTime\": \"2022-08-23 11:26:17\",              |\n",
            "|                |                            |    \"id\": \"3c3c0f2774b86361db8a5de484501788064f...  |\n",
            "|                |                            |    \"saleAmount\": 310.73                            |\n",
            "|                |                            |  }                                                 |\n",
            "|                |                            |]                                                   |\n",
            "----------------------------------------------------------------------------------------------------\n",
            "\n"
          ]
        }
      ]
    },
    {
      "cell_type": "code",
      "source": [
        "sales_items = session.table(\"RAW_CREDITCO_SALES_ITEMS\")\n",
        "sales_items.show()"
      ],
      "metadata": {
        "colab": {
          "base_uri": "https://localhost:8080/"
        },
        "id": "LHn486Hk9ADc",
        "outputId": "2a913575-b4e1-4d70-a14f-4ba30a3059bb"
      },
      "execution_count": 11,
      "outputs": [
        {
          "output_type": "stream",
          "name": "stdout",
          "text": [
            "----------------------------------------------------------------------------------------------------\n",
            "|\"INGESTION_ID\"  |\"INGESTED_AT\"               |\"DATA\"                                              |\n",
            "----------------------------------------------------------------------------------------------------\n",
            "|1               |2024-10-03 22:42:33.125000  |[                                                   |\n",
            "|                |                            |  {                                                 |\n",
            "|                |                            |    \"creditCardNumber\": \"30211992825494\",           |\n",
            "|                |                            |    \"dateTime\": \"2022-04-06 12:24:38\",              |\n",
            "|                |                            |    \"id\": \"bad9cffb24fd560624859ae0c21f9135f5b0...  |\n",
            "|                |                            |    \"items\": [                                      |\n",
            "|                |                            |      \"T-shirt\",                                    |\n",
            "|                |                            |      \"Jeans\",                                      |\n",
            "|                |                            |      \"Sneakers\"                                    |\n",
            "|                |                            |    ]                                               |\n",
            "|                |                            |  },                                                |\n",
            "|                |                            |  {                                                 |\n",
            "|                |                            |    \"creditCardNumber\": \"4405443328071522\",         |\n",
            "|                |                            |    \"dateTime\": \"2023-02-16 10:21:46\",              |\n",
            "|                |                            |    \"id\": \"f70a7d8263289ad52bc948916d4532521539...  |\n",
            "|                |                            |    \"items\": [                                      |\n",
            "|                |                            |      \"Dress\",                                      |\n",
            "|                |                            |      \"Sandals\"                                     |\n",
            "|                |                            |    ]                                               |\n",
            "|                |                            |  },                                                |\n",
            "|                |                            |  {                                                 |\n",
            "|                |                            |    \"creditCardNumber\": \"3579855610552574\",         |\n",
            "|                |                            |    \"dateTime\": \"2022-06-01 23:16:18\",              |\n",
            "|                |                            |    \"id\": \"fb992d6a592ee80769f142fdaeb6334269f1...  |\n",
            "|                |                            |    \"items\": [                                      |\n",
            "|                |                            |      \"Shirt\",                                      |\n",
            "|                |                            |      \"Shorts\",                                     |\n",
            "|                |                            |      \"Flip flops\"                                  |\n",
            "|                |                            |    ]                                               |\n",
            "|                |                            |  },                                                |\n",
            "|                |                            |  {                                                 |\n",
            "|                |                            |    \"creditCardNumber\": \"50383603573914002\",        |\n",
            "|                |                            |    \"dateTime\": \"2022-06-29 01:56:53\",              |\n",
            "|                |                            |    \"id\": \"6dbdd40dfd3839e4da175301450ed500f6f7...  |\n",
            "|                |                            |    \"items\": [                                      |\n",
            "|                |                            |      \"Blouse\",                                     |\n",
            "|                |                            |      \"Skirt\",                                      |\n",
            "|                |                            |      \"Heels\"                                       |\n",
            "|                |                            |    ]                                               |\n",
            "|                |                            |  },                                                |\n",
            "|                |                            |  {                                                 |\n",
            "|                |                            |    \"creditCardNumber\": \"5602228690840960\",         |\n",
            "|                |                            |    \"dateTime\": \"2022-10-16 22:37:15\",              |\n",
            "|                |                            |    \"id\": \"e102d3a60180098cd3fcdbf5e08e461636ca...  |\n",
            "|                |                            |    \"items\": [                                      |\n",
            "|                |                            |      \"Sweater\",                                    |\n",
            "|                |                            |      \"Pants\",                                      |\n",
            "|                |                            |      \"Boots\"                                       |\n",
            "|                |                            |    ]                                               |\n",
            "|                |                            |  },                                                |\n",
            "|                |                            |  {                                                 |\n",
            "|                |                            |    \"creditCardNumber\": \"5100144013918382\",         |\n",
            "|                |                            |    \"dateTime\": \"2023-01-18 21:32:30\",              |\n",
            "|                |                            |    \"id\": \"5291eb78808684cde42217736715cb29fb8a...  |\n",
            "|                |                            |    \"items\": [                                      |\n",
            "|                |                            |      \"Jacket\",                                     |\n",
            "|                |                            |      \"Jeans\"                                       |\n",
            "|                |                            |    ]                                               |\n",
            "|                |                            |  },                                                |\n",
            "|                |                            |  {                                                 |\n",
            "|                |                            |    \"creditCardNumber\": \"3566731438126971\",         |\n",
            "|                |                            |    \"dateTime\": \"2022-05-22 22:17:52\",              |\n",
            "|                |                            |    \"id\": \"be52606565faf06a546ca1eaf1873f2cbf4d...  |\n",
            "|                |                            |    \"items\": [                                      |\n",
            "|                |                            |      \"Hoodie\",                                     |\n",
            "|                |                            |      \"Leggings\",                                   |\n",
            "|                |                            |      \"Sneakers\"                                    |\n",
            "|                |                            |    ]                                               |\n",
            "|                |                            |  },                                                |\n",
            "|                |                            |  {                                                 |\n",
            "|                |                            |    \"creditCardNumber\": \"3552372594286931\",         |\n",
            "|                |                            |    \"dateTime\": \"2022-12-15 01:17:57\",              |\n",
            "|                |                            |    \"id\": \"eeb62e335642e773c8c1ced13fe86c06e96d...  |\n",
            "|                |                            |    \"items\": [                                      |\n",
            "|                |                            |      \"Polo shirt\",                                 |\n",
            "|                |                            |      \"Shorts\",                                     |\n",
            "|                |                            |      \"Sandals\"                                     |\n",
            "|                |                            |    ]                                               |\n",
            "|                |                            |  },                                                |\n",
            "|                |                            |  {                                                 |\n",
            "|                |                            |    \"creditCardNumber\": \"5038306986883304079\",      |\n",
            "|                |                            |    \"dateTime\": \"2023-01-03 10:05:00\",              |\n",
            "|                |                            |    \"id\": \"ad187740d176791cd73aab91956c78974b72...  |\n",
            "|                |                            |    \"items\": [                                      |\n",
            "|                |                            |      \"Blue Jeans\",                                 |\n",
            "|                |                            |      \"White T-shirt\",                              |\n",
            "|                |                            |      \"Black Sneakers\"                              |\n",
            "|                |                            |    ]                                               |\n",
            "|                |                            |  },                                                |\n",
            "|                |                            |  {                                                 |\n",
            "|                |                            |    \"creditCardNumber\": \"3535351427856427\",         |\n",
            "|                |                            |    \"dateTime\": \"2022-08-31 13:54:49\",              |\n",
            "|                |                            |    \"id\": \"61d49b03b011efc73e536560cc43f1d6c3a5...  |\n",
            "|                |                            |    \"items\": [                                      |\n",
            "|                |                            |      \"Striped Dress\",                              |\n",
            "|                |                            |      \"Silver Earrings\",                            |\n",
            "|                |                            |      \"Brown Sandals\",                              |\n",
            "|                |                            |      \"Leather Belt\"                                |\n",
            "|                |                            |    ]                                               |\n",
            "|                |                            |  }                                                 |\n",
            "|                |                            |]                                                   |\n",
            "|2               |2024-10-03 22:42:33.125000  |[                                                   |\n",
            "|                |                            |  {                                                 |\n",
            "|                |                            |    \"creditCardNumber\": \"5508176932162294\",         |\n",
            "|                |                            |    \"dateTime\": \"2022-05-05 23:57:28\",              |\n",
            "|                |                            |    \"id\": \"6929f37efca77ca1183de291878aeb01df7f...  |\n",
            "|                |                            |    \"items\": [                                      |\n",
            "|                |                            |      \"T-shirt\",                                    |\n",
            "|                |                            |      \"Jeans\"                                       |\n",
            "|                |                            |    ]                                               |\n",
            "|                |                            |  },                                                |\n",
            "|                |                            |  {                                                 |\n",
            "|                |                            |    \"creditCardNumber\": \"5100170235305322\",         |\n",
            "|                |                            |    \"dateTime\": \"2022-11-17 15:32:08\",              |\n",
            "|                |                            |    \"id\": \"bc91529cf8c5dc0177f4187a7ac291343cf1...  |\n",
            "|                |                            |    \"items\": [                                      |\n",
            "|                |                            |      \"T-shirt\",                                    |\n",
            "|                |                            |      \"Jeans\"                                       |\n",
            "|                |                            |    ]                                               |\n",
            "|                |                            |  },                                                |\n",
            "|                |                            |  {                                                 |\n",
            "|                |                            |    \"creditCardNumber\": \"3589433589169560\",         |\n",
            "|                |                            |    \"dateTime\": \"2023-02-15 10:07:31\",              |\n",
            "|                |                            |    \"id\": \"d6a5a2c3ceb5ffe288a16dd16ff55e243d4d...  |\n",
            "|                |                            |    \"items\": [                                      |\n",
            "|                |                            |      \"Sweater\",                                    |\n",
            "|                |                            |      \"Leggings\",                                   |\n",
            "|                |                            |      \"Boots\"                                       |\n",
            "|                |                            |    ]                                               |\n",
            "|                |                            |  },                                                |\n",
            "|                |                            |  {                                                 |\n",
            "|                |                            |    \"creditCardNumber\": \"3555586629098303\",         |\n",
            "|                |                            |    \"dateTime\": \"2023-01-04 01:34:06\",              |\n",
            "|                |                            |    \"id\": \"b076f6b41e238c45e63c7fe4d1f66fdda1d1...  |\n",
            "|                |                            |    \"items\": [                                      |\n",
            "|                |                            |      \"Shirt\",                                      |\n",
            "|                |                            |      \"Shorts\"                                      |\n",
            "|                |                            |    ]                                               |\n",
            "|                |                            |  },                                                |\n",
            "|                |                            |  {                                                 |\n",
            "|                |                            |    \"creditCardNumber\": \"6706100376371730\",         |\n",
            "|                |                            |    \"dateTime\": \"2022-05-12 06:00:46\",              |\n",
            "|                |                            |    \"id\": \"1f57f83f7b42aa8a986d4b01f2b996669a75...  |\n",
            "|                |                            |    \"items\": [                                      |\n",
            "|                |                            |      \"Blouse\",                                     |\n",
            "|                |                            |      \"Skirt\",                                      |\n",
            "|                |                            |      \"Flats\"                                       |\n",
            "|                |                            |    ]                                               |\n",
            "|                |                            |  },                                                |\n",
            "|                |                            |  {                                                 |\n",
            "|                |                            |    \"creditCardNumber\": \"5602247780904171\",         |\n",
            "|                |                            |    \"dateTime\": \"2022-07-17 15:16:38\",              |\n",
            "|                |                            |    \"id\": \"6eda427326d9a3829621e73afb28ec924c86...  |\n",
            "|                |                            |    \"items\": [                                      |\n",
            "|                |                            |      \"Hoodie\",                                     |\n",
            "|                |                            |      \"Joggers\"                                     |\n",
            "|                |                            |    ]                                               |\n",
            "|                |                            |  },                                                |\n",
            "|                |                            |  {                                                 |\n",
            "|                |                            |    \"creditCardNumber\": \"3565858283414805\",         |\n",
            "|                |                            |    \"dateTime\": \"2023-01-18 23:34:03\",              |\n",
            "|                |                            |    \"id\": \"06db982c6bf7d306cf16af3cd01316e3aefb...  |\n",
            "|                |                            |    \"items\": [                                      |\n",
            "|                |                            |      \"Polo Shirt\",                                 |\n",
            "|                |                            |      \"Chinos\"                                      |\n",
            "|                |                            |    ]                                               |\n",
            "|                |                            |  },                                                |\n",
            "|                |                            |  {                                                 |\n",
            "|                |                            |    \"creditCardNumber\": \"5641828030448807704\",      |\n",
            "|                |                            |    \"dateTime\": \"2022-10-06 00:06:08\",              |\n",
            "|                |                            |    \"id\": \"8980dbde6642088242b8bf93e23d65d19c08...  |\n",
            "|                |                            |    \"items\": [                                      |\n",
            "|                |                            |      \"Tank Top\",                                   |\n",
            "|                |                            |      \"Capri Pants\"                                 |\n",
            "|                |                            |    ]                                               |\n",
            "|                |                            |  },                                                |\n",
            "|                |                            |  {                                                 |\n",
            "|                |                            |    \"creditCardNumber\": \"5108758559774396\",         |\n",
            "|                |                            |    \"dateTime\": \"2022-11-07 13:12:44\",              |\n",
            "|                |                            |    \"id\": \"3e6d96ba37a3b92db0ebed1650da15ce078a...  |\n",
            "|                |                            |    \"items\": [                                      |\n",
            "|                |                            |      \"Jacket\",                                     |\n",
            "|                |                            |      \"Dress Pants\"                                 |\n",
            "|                |                            |    ]                                               |\n",
            "|                |                            |  },                                                |\n",
            "|                |                            |  {                                                 |\n",
            "|                |                            |    \"creditCardNumber\": \"3531925498468842\",         |\n",
            "|                |                            |    \"dateTime\": \"2022-12-09 21:29:21\",              |\n",
            "|                |                            |    \"id\": \"f03665c549c08f30e5b319f72c744d11b81a...  |\n",
            "|                |                            |    \"items\": [                                      |\n",
            "|                |                            |      \"Cardigan\",                                   |\n",
            "|                |                            |      \"Maxi Dress\",                                 |\n",
            "|                |                            |      \"Sandals\"                                     |\n",
            "|                |                            |    ]                                               |\n",
            "|                |                            |  }                                                 |\n",
            "|                |                            |]                                                   |\n",
            "|3               |2024-10-03 22:42:33.125000  |[                                                   |\n",
            "|                |                            |  {                                                 |\n",
            "|                |                            |    \"creditCardNumber\": \"3577254950335455\",         |\n",
            "|                |                            |    \"dateTime\": \"2022-05-08 16:22:46\",              |\n",
            "|                |                            |    \"id\": \"ef9f2a1480245dcabe9a0028cf070c4c90e0...  |\n",
            "|                |                            |    \"items\": [                                      |\n",
            "|                |                            |      \"Sweatshirt\",                                 |\n",
            "|                |                            |      \"Cargo Pants\"                                 |\n",
            "|                |                            |    ]                                               |\n",
            "|                |                            |  },                                                |\n",
            "|                |                            |  {                                                 |\n",
            "|                |                            |    \"creditCardNumber\": \"3554549240876508\",         |\n",
            "|                |                            |    \"dateTime\": \"2023-04-02 12:06:35\",              |\n",
            "|                |                            |    \"id\": \"40c139b8fa3ef091e6872e968d129bdea930...  |\n",
            "|                |                            |    \"items\": [                                      |\n",
            "|                |                            |      \"Tunic\",                                      |\n",
            "|                |                            |      \"Leggings\",                                   |\n",
            "|                |                            |      \"Ankle Boots\"                                 |\n",
            "|                |                            |    ]                                               |\n",
            "|                |                            |  },                                                |\n",
            "|                |                            |  {                                                 |\n",
            "|                |                            |    \"creditCardNumber\": \"30266916616965\",           |\n",
            "|                |                            |    \"dateTime\": \"2022-04-05 21:55:11\",              |\n",
            "|                |                            |    \"id\": \"455264f770f0bda6b412e399bb38acf4c7ff...  |\n",
            "|                |                            |    \"items\": [                                      |\n",
            "|                |                            |      \"Shawl\",                                      |\n",
            "|                |                            |      \"Denim Skirt\"                                 |\n",
            "|                |                            |    ]                                               |\n",
            "|                |                            |  },                                                |\n",
            "|                |                            |  {                                                 |\n",
            "|                |                            |    \"creditCardNumber\": \"633451185597375535\",       |\n",
            "|                |                            |    \"dateTime\": \"2022-11-16 09:32:35\",              |\n",
            "|                |                            |    \"id\": \"b060f868e3e72b1989e3b2407193e4f8b62d...  |\n",
            "|                |                            |    \"items\": [                                      |\n",
            "|                |                            |      \"Pullover\",                                   |\n",
            "|                |                            |      \"Sweatpants\"                                  |\n",
            "|                |                            |    ]                                               |\n",
            "|                |                            |  },                                                |\n",
            "|                |                            |  {                                                 |\n",
            "|                |                            |    \"creditCardNumber\": \"3534118906250666\",         |\n",
            "|                |                            |    \"dateTime\": \"2022-12-07 22:57:35\",              |\n",
            "|                |                            |    \"id\": \"99df14a00fb6f97e4c1c376bd9b5dc9b115f...  |\n",
            "|                |                            |    \"items\": [                                      |\n",
            "|                |                            |      \"Blazer\",                                     |\n",
            "|                |                            |      \"Slacks\",                                     |\n",
            "|                |                            |      \"Loafers\"                                     |\n",
            "|                |                            |    ]                                               |\n",
            "|                |                            |  },                                                |\n",
            "|                |                            |  {                                                 |\n",
            "|                |                            |    \"creditCardNumber\": \"3575177399469647\",         |\n",
            "|                |                            |    \"dateTime\": \"2023-02-11 20:01:45\",              |\n",
            "|                |                            |    \"id\": \"28f8f23c5c0b5bc4c9eda8abf96ffe9f36e1...  |\n",
            "|                |                            |    \"items\": [                                      |\n",
            "|                |                            |      \"Button-up Shirt\",                            |\n",
            "|                |                            |      \"Khakis\"                                      |\n",
            "|                |                            |    ]                                               |\n",
            "|                |                            |  },                                                |\n",
            "|                |                            |  {                                                 |\n",
            "|                |                            |    \"creditCardNumber\": \"6333020302312124279\",      |\n",
            "|                |                            |    \"dateTime\": \"2023-03-09 11:22:30\",              |\n",
            "|                |                            |    \"id\": \"2ac5fe05ea1770a825e613e31e528f88af9c...  |\n",
            "|                |                            |    \"items\": [                                      |\n",
            "|                |                            |      \"Vest\",                                       |\n",
            "|                |                            |      \"Jeans\",                                      |\n",
            "|                |                            |      \"Sneakers\"                                    |\n",
            "|                |                            |    ]                                               |\n",
            "|                |                            |  },                                                |\n",
            "|                |                            |  {                                                 |\n",
            "|                |                            |    \"creditCardNumber\": \"3551078881931920\",         |\n",
            "|                |                            |    \"dateTime\": \"2023-02-12 22:10:49\",              |\n",
            "|                |                            |    \"id\": \"67059c95cb922cd9146cbb7cb550861d4373...  |\n",
            "|                |                            |    \"items\": [                                      |\n",
            "|                |                            |      \"Crop Top\",                                   |\n",
            "|                |                            |      \"Shorts\"                                      |\n",
            "|                |                            |    ]                                               |\n",
            "|                |                            |  },                                                |\n",
            "|                |                            |  {                                                 |\n",
            "|                |                            |    \"creditCardNumber\": \"3537111546909475\",         |\n",
            "|                |                            |    \"dateTime\": \"2023-03-16 06:46:57\",              |\n",
            "|                |                            |    \"id\": \"65c230303222a2466ead2a15b2210b933374...  |\n",
            "|                |                            |    \"items\": [                                      |\n",
            "|                |                            |      \"Sweater Dress\",                              |\n",
            "|                |                            |      \"Tights\",                                     |\n",
            "|                |                            |      \"Heels\"                                       |\n",
            "|                |                            |    ]                                               |\n",
            "|                |                            |  },                                                |\n",
            "|                |                            |  {                                                 |\n",
            "|                |                            |    \"creditCardNumber\": \"3557546242325275\",         |\n",
            "|                |                            |    \"dateTime\": \"2022-08-23 11:26:17\",              |\n",
            "|                |                            |    \"id\": \"3c3c0f2774b86361db8a5de484501788064f...  |\n",
            "|                |                            |    \"items\": [                                      |\n",
            "|                |                            |      \"Turtleneck\",                                 |\n",
            "|                |                            |      \"Corduroy Pants\"                              |\n",
            "|                |                            |    ]                                               |\n",
            "|                |                            |  }                                                 |\n",
            "|                |                            |]                                                   |\n",
            "----------------------------------------------------------------------------------------------------\n",
            "\n"
          ]
        }
      ]
    },
    {
      "cell_type": "code",
      "source": [
        "sales_items_flat = (\n",
        "    sales_items.join_table_function(\"flatten\", col(\"data\"))\n",
        "    .withColumn(\"creditCardNumber\", json_extract_path_text(\"value\",lit(\"creditCardNumber\")))\n",
        "    .withColumn(\"dateTime\", json_extract_path_text(\"value\",lit(\"dateTime\")))\n",
        "    .withColumn(\"id\", md5(json_extract_path_text(\"value\",lit(\"id\"))))\n",
        "    .withColumn(\"items\", (json_extract_path_text(\"value\",lit(\"items\"))))\n",
        "    .select(\"ingestion_id\",\"ingested_at\",\"creditCardNumber\",\"dateTime\",\"id\",\"items\")\n",
        ")\n",
        "\n",
        "sales_items_flat.show()"
      ],
      "metadata": {
        "colab": {
          "base_uri": "https://localhost:8080/"
        },
        "id": "VJida6VH_zIR",
        "outputId": "62f320e8-ed6d-405a-a102-8e8a54be744f"
      },
      "execution_count": 12,
      "outputs": [
        {
          "output_type": "stream",
          "name": "stdout",
          "text": [
            "-----------------------------------------------------------------------------------------------------------------------------------------------------------------------------------\n",
            "|\"INGESTION_ID\"  |\"INGESTED_AT\"               |\"CREDITCARDNUMBER\"   |\"DATETIME\"           |\"ID\"                              |\"ITEMS\"                                             |\n",
            "-----------------------------------------------------------------------------------------------------------------------------------------------------------------------------------\n",
            "|1               |2024-10-03 22:42:33.125000  |30211992825494       |2022-04-06 12:24:38  |690863fd43c06792f23fdc2700ae090e  |[\"T-shirt\",\"Jeans\",\"Sneakers\"]                      |\n",
            "|1               |2024-10-03 22:42:33.125000  |4405443328071522     |2023-02-16 10:21:46  |2b0de9a34332c8f27f11d07d11b4eaa2  |[\"Dress\",\"Sandals\"]                                 |\n",
            "|1               |2024-10-03 22:42:33.125000  |3579855610552574     |2022-06-01 23:16:18  |be83739b50b41880570c132f092d57ae  |[\"Shirt\",\"Shorts\",\"Flip flops\"]                     |\n",
            "|1               |2024-10-03 22:42:33.125000  |50383603573914002    |2022-06-29 01:56:53  |7e25f863e835c2b79819a6a4f8e5ff98  |[\"Blouse\",\"Skirt\",\"Heels\"]                          |\n",
            "|1               |2024-10-03 22:42:33.125000  |5602228690840960     |2022-10-16 22:37:15  |80d550a377048cce1270c0c025d1e91e  |[\"Sweater\",\"Pants\",\"Boots\"]                         |\n",
            "|1               |2024-10-03 22:42:33.125000  |5100144013918382     |2023-01-18 21:32:30  |f54d9d5bf9fcddea178a9aa3cfa55a06  |[\"Jacket\",\"Jeans\"]                                  |\n",
            "|1               |2024-10-03 22:42:33.125000  |3566731438126971     |2022-05-22 22:17:52  |8e67ebae8673b905c051378a4012cfff  |[\"Hoodie\",\"Leggings\",\"Sneakers\"]                    |\n",
            "|1               |2024-10-03 22:42:33.125000  |3552372594286931     |2022-12-15 01:17:57  |03461037872a2a49d7e17a26e590fc54  |[\"Polo shirt\",\"Shorts\",\"Sandals\"]                   |\n",
            "|1               |2024-10-03 22:42:33.125000  |5038306986883304079  |2023-01-03 10:05:00  |69359a2361ebd3ba9e27a5dbdd4ec44f  |[\"Blue Jeans\",\"White T-shirt\",\"Black Sneakers\"]     |\n",
            "|1               |2024-10-03 22:42:33.125000  |3535351427856427     |2022-08-31 13:54:49  |1aeea42a1a5233bb39f762191af256cc  |[\"Striped Dress\",\"Silver Earrings\",\"Brown Sanda...  |\n",
            "-----------------------------------------------------------------------------------------------------------------------------------------------------------------------------------\n",
            "\n"
          ]
        }
      ]
    },
    {
      "cell_type": "code",
      "source": [
        "# get system time as its on google colab so to understand why there's a difference in the ingested time.\n",
        "print(datetime.datetime.now())"
      ],
      "metadata": {
        "colab": {
          "base_uri": "https://localhost:8080/"
        },
        "id": "ZDcqRf0VCL2l",
        "outputId": "adc740b0-21da-491b-dd5c-cbe91745acda"
      },
      "execution_count": 13,
      "outputs": [
        {
          "output_type": "stream",
          "name": "stdout",
          "text": [
            "2024-10-07 01:57:56.437943\n"
          ]
        }
      ]
    },
    {
      "cell_type": "markdown",
      "source": [
        "# **UDF**"
      ],
      "metadata": {
        "id": "ZACQNAciBisy"
      }
    },
    {
      "cell_type": "code",
      "source": [
        "# create a stage\n",
        "session.sql(\"create or replace stage sf_sp_stage\").collect()"
      ],
      "metadata": {
        "colab": {
          "base_uri": "https://localhost:8080/"
        },
        "id": "qdgySjlpUlmG",
        "outputId": "761cc2fb-6c4e-4626-9e95-fbe48edb0187"
      },
      "execution_count": 14,
      "outputs": [
        {
          "output_type": "execute_result",
          "data": {
            "text/plain": [
              "[Row(status='Stage area SF_SP_STAGE successfully created.')]"
            ]
          },
          "metadata": {},
          "execution_count": 14
        }
      ]
    },
    {
      "cell_type": "code",
      "source": [
        "# put udf file in the newly created stage\n",
        "session.file.put(\"/content/drive/MyDrive/Colab Notebooks/Snowflake_Snowpark_1sttry_udf.py\", \"@SF_SP_STAGE\", auto_compress=False)"
      ],
      "metadata": {
        "colab": {
          "base_uri": "https://localhost:8080/"
        },
        "id": "xovGWCsvXG1g",
        "outputId": "460665a8-62d8-4ae2-ab9b-aa9daf1167c9"
      },
      "execution_count": 15,
      "outputs": [
        {
          "output_type": "execute_result",
          "data": {
            "text/plain": [
              "[PutResult(source='Snowflake_Snowpark_1sttry_udf.py', target='Snowflake_Snowpark_1sttry_udf.py', source_size=67, target_size=80, source_compression='NONE', target_compression='NONE', status='UPLOADED', message='')]"
            ]
          },
          "metadata": {},
          "execution_count": 15
        }
      ]
    },
    {
      "cell_type": "code",
      "source": [
        "# register the udf\n",
        "\n",
        "sort_alphabetically = session.udf.register_from_file(\n",
        "    file_path=\"@SF_SP_STAGE/Snowflake_Snowpark_1sttry_udf.py\",\n",
        "    func_name=\"sort_alphabetically\",\n",
        "    return_type=ArrayType(),\n",
        "    input_types=[VariantType()],\n",
        "    name = \"sort_alphabetically\",\n",
        "    replace=True,\n",
        "    stage_location=\"@SF_SP_STAGE\",\n",
        "    is_permanent=True\n",
        ")"
      ],
      "metadata": {
        "id": "5zEjky4HaQJZ"
      },
      "execution_count": 16,
      "outputs": []
    },
    {
      "cell_type": "code",
      "source": [
        "# applying UDF on the existing data\n",
        "\n",
        "sales_items_flat_with_udf = (\n",
        "    sales_items.join_table_function(\"flatten\", col(\"data\"))\n",
        "    .withColumn(\"creditCardNumber\", json_extract_path_text(\"value\",lit(\"creditCardNumber\")))\n",
        "    .withColumn(\"dateTime\", json_extract_path_text(\"value\",lit(\"dateTime\")))\n",
        "    .withColumn(\"id\", md5(json_extract_path_text(\"value\",lit(\"id\"))))\n",
        "    .withColumn(\"items\", sort_alphabetically(parse_json(json_extract_path_text(\"value\",lit(\"items\")))))\n",
        "    .select(\"ingestion_id\",\"ingested_at\",\"creditCardNumber\",\"dateTime\",\"id\",\"items\")\n",
        ")\n",
        "\n",
        "sales_items_flat_with_udf.show()"
      ],
      "metadata": {
        "colab": {
          "base_uri": "https://localhost:8080/"
        },
        "id": "03ANDNRadU9_",
        "outputId": "b22bb8a0-57b3-44fd-e343-e06de2629abe"
      },
      "execution_count": 17,
      "outputs": [
        {
          "output_type": "stream",
          "name": "stdout",
          "text": [
            "-----------------------------------------------------------------------------------------------------------------------------------------------------\n",
            "|\"INGESTION_ID\"  |\"INGESTED_AT\"               |\"CREDITCARDNUMBER\"   |\"DATETIME\"           |\"ID\"                              |\"ITEMS\"               |\n",
            "-----------------------------------------------------------------------------------------------------------------------------------------------------\n",
            "|1               |2024-10-03 22:42:33.125000  |30211992825494       |2022-04-06 12:24:38  |690863fd43c06792f23fdc2700ae090e  |[                     |\n",
            "|                |                            |                     |                     |                                  |  \"Jeans\",            |\n",
            "|                |                            |                     |                     |                                  |  \"Sneakers\",         |\n",
            "|                |                            |                     |                     |                                  |  \"T-shirt\"           |\n",
            "|                |                            |                     |                     |                                  |]                     |\n",
            "|1               |2024-10-03 22:42:33.125000  |4405443328071522     |2023-02-16 10:21:46  |2b0de9a34332c8f27f11d07d11b4eaa2  |[                     |\n",
            "|                |                            |                     |                     |                                  |  \"Dress\",            |\n",
            "|                |                            |                     |                     |                                  |  \"Sandals\"           |\n",
            "|                |                            |                     |                     |                                  |]                     |\n",
            "|1               |2024-10-03 22:42:33.125000  |3579855610552574     |2022-06-01 23:16:18  |be83739b50b41880570c132f092d57ae  |[                     |\n",
            "|                |                            |                     |                     |                                  |  \"Flip flops\",       |\n",
            "|                |                            |                     |                     |                                  |  \"Shirt\",            |\n",
            "|                |                            |                     |                     |                                  |  \"Shorts\"            |\n",
            "|                |                            |                     |                     |                                  |]                     |\n",
            "|1               |2024-10-03 22:42:33.125000  |50383603573914002    |2022-06-29 01:56:53  |7e25f863e835c2b79819a6a4f8e5ff98  |[                     |\n",
            "|                |                            |                     |                     |                                  |  \"Blouse\",           |\n",
            "|                |                            |                     |                     |                                  |  \"Heels\",            |\n",
            "|                |                            |                     |                     |                                  |  \"Skirt\"             |\n",
            "|                |                            |                     |                     |                                  |]                     |\n",
            "|1               |2024-10-03 22:42:33.125000  |5602228690840960     |2022-10-16 22:37:15  |80d550a377048cce1270c0c025d1e91e  |[                     |\n",
            "|                |                            |                     |                     |                                  |  \"Boots\",            |\n",
            "|                |                            |                     |                     |                                  |  \"Pants\",            |\n",
            "|                |                            |                     |                     |                                  |  \"Sweater\"           |\n",
            "|                |                            |                     |                     |                                  |]                     |\n",
            "|1               |2024-10-03 22:42:33.125000  |5100144013918382     |2023-01-18 21:32:30  |f54d9d5bf9fcddea178a9aa3cfa55a06  |[                     |\n",
            "|                |                            |                     |                     |                                  |  \"Jacket\",           |\n",
            "|                |                            |                     |                     |                                  |  \"Jeans\"             |\n",
            "|                |                            |                     |                     |                                  |]                     |\n",
            "|1               |2024-10-03 22:42:33.125000  |3566731438126971     |2022-05-22 22:17:52  |8e67ebae8673b905c051378a4012cfff  |[                     |\n",
            "|                |                            |                     |                     |                                  |  \"Hoodie\",           |\n",
            "|                |                            |                     |                     |                                  |  \"Leggings\",         |\n",
            "|                |                            |                     |                     |                                  |  \"Sneakers\"          |\n",
            "|                |                            |                     |                     |                                  |]                     |\n",
            "|1               |2024-10-03 22:42:33.125000  |3552372594286931     |2022-12-15 01:17:57  |03461037872a2a49d7e17a26e590fc54  |[                     |\n",
            "|                |                            |                     |                     |                                  |  \"Polo shirt\",       |\n",
            "|                |                            |                     |                     |                                  |  \"Sandals\",          |\n",
            "|                |                            |                     |                     |                                  |  \"Shorts\"            |\n",
            "|                |                            |                     |                     |                                  |]                     |\n",
            "|1               |2024-10-03 22:42:33.125000  |5038306986883304079  |2023-01-03 10:05:00  |69359a2361ebd3ba9e27a5dbdd4ec44f  |[                     |\n",
            "|                |                            |                     |                     |                                  |  \"Black Sneakers\",   |\n",
            "|                |                            |                     |                     |                                  |  \"Blue Jeans\",       |\n",
            "|                |                            |                     |                     |                                  |  \"White T-shirt\"     |\n",
            "|                |                            |                     |                     |                                  |]                     |\n",
            "|1               |2024-10-03 22:42:33.125000  |3535351427856427     |2022-08-31 13:54:49  |1aeea42a1a5233bb39f762191af256cc  |[                     |\n",
            "|                |                            |                     |                     |                                  |  \"Brown Sandals\",    |\n",
            "|                |                            |                     |                     |                                  |  \"Leather Belt\",     |\n",
            "|                |                            |                     |                     |                                  |  \"Silver Earrings\",  |\n",
            "|                |                            |                     |                     |                                  |  \"Striped Dress\"     |\n",
            "|                |                            |                     |                     |                                  |]                     |\n",
            "-----------------------------------------------------------------------------------------------------------------------------------------------------\n",
            "\n"
          ]
        }
      ]
    },
    {
      "cell_type": "code",
      "source": [
        "# save the UDF transformed data into a table\n",
        "\n",
        "sales_items_flat_with_udf.write.mode(\"overwrite\").saveAsTable(\"sales_items\")"
      ],
      "metadata": {
        "id": "Qw84SFxFezgq"
      },
      "execution_count": 18,
      "outputs": []
    },
    {
      "cell_type": "code",
      "source": [
        "# create a stage\n",
        "session.sql(\"select * from sales_items\").collect()"
      ],
      "metadata": {
        "colab": {
          "base_uri": "https://localhost:8080/"
        },
        "id": "foEATA3BsHdP",
        "outputId": "656aae54-6f8b-4aa8-f891-fbc020be8d25"
      },
      "execution_count": 19,
      "outputs": [
        {
          "output_type": "execute_result",
          "data": {
            "text/plain": [
              "[Row(INGESTION_ID=1, INGESTED_AT=datetime.datetime(2024, 10, 3, 22, 42, 33, 125000), CREDITCARDNUMBER='30211992825494', DATETIME='2022-04-06 12:24:38', ID='690863fd43c06792f23fdc2700ae090e', ITEMS='[\\n  \"Jeans\",\\n  \"Sneakers\",\\n  \"T-shirt\"\\n]'),\n",
              " Row(INGESTION_ID=1, INGESTED_AT=datetime.datetime(2024, 10, 3, 22, 42, 33, 125000), CREDITCARDNUMBER='4405443328071522', DATETIME='2023-02-16 10:21:46', ID='2b0de9a34332c8f27f11d07d11b4eaa2', ITEMS='[\\n  \"Dress\",\\n  \"Sandals\"\\n]'),\n",
              " Row(INGESTION_ID=1, INGESTED_AT=datetime.datetime(2024, 10, 3, 22, 42, 33, 125000), CREDITCARDNUMBER='3579855610552574', DATETIME='2022-06-01 23:16:18', ID='be83739b50b41880570c132f092d57ae', ITEMS='[\\n  \"Flip flops\",\\n  \"Shirt\",\\n  \"Shorts\"\\n]'),\n",
              " Row(INGESTION_ID=1, INGESTED_AT=datetime.datetime(2024, 10, 3, 22, 42, 33, 125000), CREDITCARDNUMBER='50383603573914002', DATETIME='2022-06-29 01:56:53', ID='7e25f863e835c2b79819a6a4f8e5ff98', ITEMS='[\\n  \"Blouse\",\\n  \"Heels\",\\n  \"Skirt\"\\n]'),\n",
              " Row(INGESTION_ID=1, INGESTED_AT=datetime.datetime(2024, 10, 3, 22, 42, 33, 125000), CREDITCARDNUMBER='5602228690840960', DATETIME='2022-10-16 22:37:15', ID='80d550a377048cce1270c0c025d1e91e', ITEMS='[\\n  \"Boots\",\\n  \"Pants\",\\n  \"Sweater\"\\n]'),\n",
              " Row(INGESTION_ID=1, INGESTED_AT=datetime.datetime(2024, 10, 3, 22, 42, 33, 125000), CREDITCARDNUMBER='5100144013918382', DATETIME='2023-01-18 21:32:30', ID='f54d9d5bf9fcddea178a9aa3cfa55a06', ITEMS='[\\n  \"Jacket\",\\n  \"Jeans\"\\n]'),\n",
              " Row(INGESTION_ID=1, INGESTED_AT=datetime.datetime(2024, 10, 3, 22, 42, 33, 125000), CREDITCARDNUMBER='3566731438126971', DATETIME='2022-05-22 22:17:52', ID='8e67ebae8673b905c051378a4012cfff', ITEMS='[\\n  \"Hoodie\",\\n  \"Leggings\",\\n  \"Sneakers\"\\n]'),\n",
              " Row(INGESTION_ID=1, INGESTED_AT=datetime.datetime(2024, 10, 3, 22, 42, 33, 125000), CREDITCARDNUMBER='3552372594286931', DATETIME='2022-12-15 01:17:57', ID='03461037872a2a49d7e17a26e590fc54', ITEMS='[\\n  \"Polo shirt\",\\n  \"Sandals\",\\n  \"Shorts\"\\n]'),\n",
              " Row(INGESTION_ID=1, INGESTED_AT=datetime.datetime(2024, 10, 3, 22, 42, 33, 125000), CREDITCARDNUMBER='5038306986883304079', DATETIME='2023-01-03 10:05:00', ID='69359a2361ebd3ba9e27a5dbdd4ec44f', ITEMS='[\\n  \"Black Sneakers\",\\n  \"Blue Jeans\",\\n  \"White T-shirt\"\\n]'),\n",
              " Row(INGESTION_ID=1, INGESTED_AT=datetime.datetime(2024, 10, 3, 22, 42, 33, 125000), CREDITCARDNUMBER='3535351427856427', DATETIME='2022-08-31 13:54:49', ID='1aeea42a1a5233bb39f762191af256cc', ITEMS='[\\n  \"Brown Sandals\",\\n  \"Leather Belt\",\\n  \"Silver Earrings\",\\n  \"Striped Dress\"\\n]'),\n",
              " Row(INGESTION_ID=2, INGESTED_AT=datetime.datetime(2024, 10, 3, 22, 42, 33, 125000), CREDITCARDNUMBER='5508176932162294', DATETIME='2022-05-05 23:57:28', ID='b1ad701e07a8a8803ba1ce2ed7fc7789', ITEMS='[\\n  \"Jeans\",\\n  \"T-shirt\"\\n]'),\n",
              " Row(INGESTION_ID=2, INGESTED_AT=datetime.datetime(2024, 10, 3, 22, 42, 33, 125000), CREDITCARDNUMBER='5100170235305322', DATETIME='2022-11-17 15:32:08', ID='c34a9f777d60b5ba6f8ce5353738dcac', ITEMS='[\\n  \"Jeans\",\\n  \"T-shirt\"\\n]'),\n",
              " Row(INGESTION_ID=2, INGESTED_AT=datetime.datetime(2024, 10, 3, 22, 42, 33, 125000), CREDITCARDNUMBER='3589433589169560', DATETIME='2023-02-15 10:07:31', ID='f70e8e3be225730614b8f38ac24ab318', ITEMS='[\\n  \"Boots\",\\n  \"Leggings\",\\n  \"Sweater\"\\n]'),\n",
              " Row(INGESTION_ID=2, INGESTED_AT=datetime.datetime(2024, 10, 3, 22, 42, 33, 125000), CREDITCARDNUMBER='3555586629098303', DATETIME='2023-01-04 01:34:06', ID='2ed332c54024c5002d9994fc5f5f6148', ITEMS='[\\n  \"Shirt\",\\n  \"Shorts\"\\n]'),\n",
              " Row(INGESTION_ID=2, INGESTED_AT=datetime.datetime(2024, 10, 3, 22, 42, 33, 125000), CREDITCARDNUMBER='6706100376371730', DATETIME='2022-05-12 06:00:46', ID='90a0ba63b53ab5547e35e848fe3f4c09', ITEMS='[\\n  \"Blouse\",\\n  \"Flats\",\\n  \"Skirt\"\\n]'),\n",
              " Row(INGESTION_ID=2, INGESTED_AT=datetime.datetime(2024, 10, 3, 22, 42, 33, 125000), CREDITCARDNUMBER='5602247780904171', DATETIME='2022-07-17 15:16:38', ID='37ece1f76a7c80f8f78fe8c246cf5a88', ITEMS='[\\n  \"Hoodie\",\\n  \"Joggers\"\\n]'),\n",
              " Row(INGESTION_ID=2, INGESTED_AT=datetime.datetime(2024, 10, 3, 22, 42, 33, 125000), CREDITCARDNUMBER='3565858283414805', DATETIME='2023-01-18 23:34:03', ID='5bed23f8c3ad2ecc34601d7448347637', ITEMS='[\\n  \"Chinos\",\\n  \"Polo Shirt\"\\n]'),\n",
              " Row(INGESTION_ID=2, INGESTED_AT=datetime.datetime(2024, 10, 3, 22, 42, 33, 125000), CREDITCARDNUMBER='5641828030448807704', DATETIME='2022-10-06 00:06:08', ID='0322ab150a22b046d51abfe7a7572957', ITEMS='[\\n  \"Capri Pants\",\\n  \"Tank Top\"\\n]'),\n",
              " Row(INGESTION_ID=2, INGESTED_AT=datetime.datetime(2024, 10, 3, 22, 42, 33, 125000), CREDITCARDNUMBER='5108758559774396', DATETIME='2022-11-07 13:12:44', ID='789e07ff9b38ed850969b33dc48e7f5e', ITEMS='[\\n  \"Dress Pants\",\\n  \"Jacket\"\\n]'),\n",
              " Row(INGESTION_ID=2, INGESTED_AT=datetime.datetime(2024, 10, 3, 22, 42, 33, 125000), CREDITCARDNUMBER='3531925498468842', DATETIME='2022-12-09 21:29:21', ID='dcf1f58e24e17f515e98131e51638cf6', ITEMS='[\\n  \"Cardigan\",\\n  \"Maxi Dress\",\\n  \"Sandals\"\\n]'),\n",
              " Row(INGESTION_ID=3, INGESTED_AT=datetime.datetime(2024, 10, 3, 22, 42, 33, 125000), CREDITCARDNUMBER='3577254950335455', DATETIME='2022-05-08 16:22:46', ID='e04c3c746ece8f1df1a299ffdded5d67', ITEMS='[\\n  \"Cargo Pants\",\\n  \"Sweatshirt\"\\n]'),\n",
              " Row(INGESTION_ID=3, INGESTED_AT=datetime.datetime(2024, 10, 3, 22, 42, 33, 125000), CREDITCARDNUMBER='3554549240876508', DATETIME='2023-04-02 12:06:35', ID='65c70344cb51a9f2d19f9eb9b657c168', ITEMS='[\\n  \"Ankle Boots\",\\n  \"Leggings\",\\n  \"Tunic\"\\n]'),\n",
              " Row(INGESTION_ID=3, INGESTED_AT=datetime.datetime(2024, 10, 3, 22, 42, 33, 125000), CREDITCARDNUMBER='30266916616965', DATETIME='2022-04-05 21:55:11', ID='737f49ccb94cfea1f96a27c32d2d39d4', ITEMS='[\\n  \"Denim Skirt\",\\n  \"Shawl\"\\n]'),\n",
              " Row(INGESTION_ID=3, INGESTED_AT=datetime.datetime(2024, 10, 3, 22, 42, 33, 125000), CREDITCARDNUMBER='633451185597375535', DATETIME='2022-11-16 09:32:35', ID='7ed54dce06857f41f1d0400e90927a0f', ITEMS='[\\n  \"Pullover\",\\n  \"Sweatpants\"\\n]'),\n",
              " Row(INGESTION_ID=3, INGESTED_AT=datetime.datetime(2024, 10, 3, 22, 42, 33, 125000), CREDITCARDNUMBER='3534118906250666', DATETIME='2022-12-07 22:57:35', ID='4cd1974f5be885220ab629a5228c2ebf', ITEMS='[\\n  \"Blazer\",\\n  \"Loafers\",\\n  \"Slacks\"\\n]'),\n",
              " Row(INGESTION_ID=3, INGESTED_AT=datetime.datetime(2024, 10, 3, 22, 42, 33, 125000), CREDITCARDNUMBER='3575177399469647', DATETIME='2023-02-11 20:01:45', ID='0aba79867bd7d7b7823264e9408d095b', ITEMS='[\\n  \"Button-up Shirt\",\\n  \"Khakis\"\\n]'),\n",
              " Row(INGESTION_ID=3, INGESTED_AT=datetime.datetime(2024, 10, 3, 22, 42, 33, 125000), CREDITCARDNUMBER='6333020302312124279', DATETIME='2023-03-09 11:22:30', ID='0484eb3108c06aed5e6a354e5203d721', ITEMS='[\\n  \"Jeans\",\\n  \"Sneakers\",\\n  \"Vest\"\\n]'),\n",
              " Row(INGESTION_ID=3, INGESTED_AT=datetime.datetime(2024, 10, 3, 22, 42, 33, 125000), CREDITCARDNUMBER='3551078881931920', DATETIME='2023-02-12 22:10:49', ID='5ff7f4e02b59ad20f55f53b94a77368f', ITEMS='[\\n  \"Crop Top\",\\n  \"Shorts\"\\n]'),\n",
              " Row(INGESTION_ID=3, INGESTED_AT=datetime.datetime(2024, 10, 3, 22, 42, 33, 125000), CREDITCARDNUMBER='3537111546909475', DATETIME='2023-03-16 06:46:57', ID='4b48465f9060140312d689dfd076a71f', ITEMS='[\\n  \"Heels\",\\n  \"Sweater Dress\",\\n  \"Tights\"\\n]'),\n",
              " Row(INGESTION_ID=3, INGESTED_AT=datetime.datetime(2024, 10, 3, 22, 42, 33, 125000), CREDITCARDNUMBER='3557546242325275', DATETIME='2022-08-23 11:26:17', ID='cd1675b2f0e20c56c8ea1f3e47afc577', ITEMS='[\\n  \"Corduroy Pants\",\\n  \"Turtleneck\"\\n]')]"
            ]
          },
          "metadata": {},
          "execution_count": 19
        }
      ]
    },
    {
      "cell_type": "markdown",
      "source": [
        "# **Merge**"
      ],
      "metadata": {
        "id": "KOw4j4FvCm0i"
      }
    },
    {
      "cell_type": "code",
      "source": [
        "# read local csv\n",
        "new_sales_items_data = pd.read_csv(\"/content/drive/MyDrive/Colab Notebooks/Snowflake_Snowpark_1sttry/new_sales_item_data.csv\")"
      ],
      "metadata": {
        "id": "KDoJ1YWEB9Hr"
      },
      "execution_count": 20,
      "outputs": []
    },
    {
      "cell_type": "code",
      "source": [
        "# lets look into the data\n",
        "\n",
        "new_sales_items_data.info()"
      ],
      "metadata": {
        "colab": {
          "base_uri": "https://localhost:8080/"
        },
        "id": "D7Ht4Y6bDZ9b",
        "outputId": "c0cae4da-ed33-443e-a89d-2bb66efd126c"
      },
      "execution_count": 21,
      "outputs": [
        {
          "output_type": "stream",
          "name": "stdout",
          "text": [
            "<class 'pandas.core.frame.DataFrame'>\n",
            "RangeIndex: 16 entries, 0 to 15\n",
            "Data columns (total 6 columns):\n",
            " #   Column              Non-Null Count  Dtype \n",
            "---  ------              --------------  ----- \n",
            " 0   INGESTION_ID        16 non-null     int64 \n",
            " 1   INGESTED_AT         16 non-null     object\n",
            " 2   CREDIT_CARD_NUMBER  16 non-null     int64 \n",
            " 3   DATE_TIME           16 non-null     object\n",
            " 4   ID                  16 non-null     object\n",
            " 5   ITEMS               16 non-null     object\n",
            "dtypes: int64(2), object(4)\n",
            "memory usage: 896.0+ bytes\n"
          ]
        }
      ]
    },
    {
      "cell_type": "code",
      "source": [
        "# lets look into the data\n",
        "new_sales_items_data.head()"
      ],
      "metadata": {
        "colab": {
          "base_uri": "https://localhost:8080/",
          "height": 206
        },
        "id": "g0htJ3dMDVAB",
        "outputId": "32f1b4af-5b07-43d7-8f79-35d89fd80e85"
      },
      "execution_count": 22,
      "outputs": [
        {
          "output_type": "execute_result",
          "data": {
            "text/plain": [
              "   INGESTION_ID                 INGESTED_AT   CREDIT_CARD_NUMBER  \\\n",
              "0             3  2023-04-06 08:28:53.892000     3534118906250666   \n",
              "1             3  2023-04-06 08:28:53.892000     3575177399469647   \n",
              "2             3  2023-04-06 08:28:53.892000  6333020302312124279   \n",
              "3             3  2023-04-06 08:28:53.892000     3551078881931920   \n",
              "4             3  2023-04-06 08:28:53.892000     3537111546909475   \n",
              "\n",
              "             DATE_TIME                                ID  \\\n",
              "0  2022-12-07 22:57:35  4cd1974f5be885220ab629a5228c2ebf   \n",
              "1  2023-02-11 20:01:45  0aba79867bd7d7b7823264e9408d095b   \n",
              "2  2023-03-09 11:22:30  0484eb3108c06aed5e6a354e5203d721   \n",
              "3  2023-02-12 22:10:49  5ff7f4e02b59ad20f55f53b94a77368f   \n",
              "4  2023-03-16 06:46:57  4b48465f9060140312d689dfd076a71f   \n",
              "\n",
              "                                ITEMS  \n",
              "0       [\"Blazer\",\"Slacks\",\"Loafers\"]  \n",
              "1        [\"Button-up Shirt\",\"Khakis\"]  \n",
              "2         [\"Vest\",\"Jeans\",\"Sneakers\"]  \n",
              "3               [\"Crop Top\",\"Shorts\"]  \n",
              "4  [\"Sweater Dress\",\"Tights\",\"Heels\"]  "
            ],
            "text/html": [
              "\n",
              "  <div id=\"df-297fa1a7-b36d-4ebc-b8ae-b7bd1c64ee62\" class=\"colab-df-container\">\n",
              "    <div>\n",
              "<style scoped>\n",
              "    .dataframe tbody tr th:only-of-type {\n",
              "        vertical-align: middle;\n",
              "    }\n",
              "\n",
              "    .dataframe tbody tr th {\n",
              "        vertical-align: top;\n",
              "    }\n",
              "\n",
              "    .dataframe thead th {\n",
              "        text-align: right;\n",
              "    }\n",
              "</style>\n",
              "<table border=\"1\" class=\"dataframe\">\n",
              "  <thead>\n",
              "    <tr style=\"text-align: right;\">\n",
              "      <th></th>\n",
              "      <th>INGESTION_ID</th>\n",
              "      <th>INGESTED_AT</th>\n",
              "      <th>CREDIT_CARD_NUMBER</th>\n",
              "      <th>DATE_TIME</th>\n",
              "      <th>ID</th>\n",
              "      <th>ITEMS</th>\n",
              "    </tr>\n",
              "  </thead>\n",
              "  <tbody>\n",
              "    <tr>\n",
              "      <th>0</th>\n",
              "      <td>3</td>\n",
              "      <td>2023-04-06 08:28:53.892000</td>\n",
              "      <td>3534118906250666</td>\n",
              "      <td>2022-12-07 22:57:35</td>\n",
              "      <td>4cd1974f5be885220ab629a5228c2ebf</td>\n",
              "      <td>[\"Blazer\",\"Slacks\",\"Loafers\"]</td>\n",
              "    </tr>\n",
              "    <tr>\n",
              "      <th>1</th>\n",
              "      <td>3</td>\n",
              "      <td>2023-04-06 08:28:53.892000</td>\n",
              "      <td>3575177399469647</td>\n",
              "      <td>2023-02-11 20:01:45</td>\n",
              "      <td>0aba79867bd7d7b7823264e9408d095b</td>\n",
              "      <td>[\"Button-up Shirt\",\"Khakis\"]</td>\n",
              "    </tr>\n",
              "    <tr>\n",
              "      <th>2</th>\n",
              "      <td>3</td>\n",
              "      <td>2023-04-06 08:28:53.892000</td>\n",
              "      <td>6333020302312124279</td>\n",
              "      <td>2023-03-09 11:22:30</td>\n",
              "      <td>0484eb3108c06aed5e6a354e5203d721</td>\n",
              "      <td>[\"Vest\",\"Jeans\",\"Sneakers\"]</td>\n",
              "    </tr>\n",
              "    <tr>\n",
              "      <th>3</th>\n",
              "      <td>3</td>\n",
              "      <td>2023-04-06 08:28:53.892000</td>\n",
              "      <td>3551078881931920</td>\n",
              "      <td>2023-02-12 22:10:49</td>\n",
              "      <td>5ff7f4e02b59ad20f55f53b94a77368f</td>\n",
              "      <td>[\"Crop Top\",\"Shorts\"]</td>\n",
              "    </tr>\n",
              "    <tr>\n",
              "      <th>4</th>\n",
              "      <td>3</td>\n",
              "      <td>2023-04-06 08:28:53.892000</td>\n",
              "      <td>3537111546909475</td>\n",
              "      <td>2023-03-16 06:46:57</td>\n",
              "      <td>4b48465f9060140312d689dfd076a71f</td>\n",
              "      <td>[\"Sweater Dress\",\"Tights\",\"Heels\"]</td>\n",
              "    </tr>\n",
              "  </tbody>\n",
              "</table>\n",
              "</div>\n",
              "    <div class=\"colab-df-buttons\">\n",
              "\n",
              "  <div class=\"colab-df-container\">\n",
              "    <button class=\"colab-df-convert\" onclick=\"convertToInteractive('df-297fa1a7-b36d-4ebc-b8ae-b7bd1c64ee62')\"\n",
              "            title=\"Convert this dataframe to an interactive table.\"\n",
              "            style=\"display:none;\">\n",
              "\n",
              "  <svg xmlns=\"http://www.w3.org/2000/svg\" height=\"24px\" viewBox=\"0 -960 960 960\">\n",
              "    <path d=\"M120-120v-720h720v720H120Zm60-500h600v-160H180v160Zm220 220h160v-160H400v160Zm0 220h160v-160H400v160ZM180-400h160v-160H180v160Zm440 0h160v-160H620v160ZM180-180h160v-160H180v160Zm440 0h160v-160H620v160Z\"/>\n",
              "  </svg>\n",
              "    </button>\n",
              "\n",
              "  <style>\n",
              "    .colab-df-container {\n",
              "      display:flex;\n",
              "      gap: 12px;\n",
              "    }\n",
              "\n",
              "    .colab-df-convert {\n",
              "      background-color: #E8F0FE;\n",
              "      border: none;\n",
              "      border-radius: 50%;\n",
              "      cursor: pointer;\n",
              "      display: none;\n",
              "      fill: #1967D2;\n",
              "      height: 32px;\n",
              "      padding: 0 0 0 0;\n",
              "      width: 32px;\n",
              "    }\n",
              "\n",
              "    .colab-df-convert:hover {\n",
              "      background-color: #E2EBFA;\n",
              "      box-shadow: 0px 1px 2px rgba(60, 64, 67, 0.3), 0px 1px 3px 1px rgba(60, 64, 67, 0.15);\n",
              "      fill: #174EA6;\n",
              "    }\n",
              "\n",
              "    .colab-df-buttons div {\n",
              "      margin-bottom: 4px;\n",
              "    }\n",
              "\n",
              "    [theme=dark] .colab-df-convert {\n",
              "      background-color: #3B4455;\n",
              "      fill: #D2E3FC;\n",
              "    }\n",
              "\n",
              "    [theme=dark] .colab-df-convert:hover {\n",
              "      background-color: #434B5C;\n",
              "      box-shadow: 0px 1px 3px 1px rgba(0, 0, 0, 0.15);\n",
              "      filter: drop-shadow(0px 1px 2px rgba(0, 0, 0, 0.3));\n",
              "      fill: #FFFFFF;\n",
              "    }\n",
              "  </style>\n",
              "\n",
              "    <script>\n",
              "      const buttonEl =\n",
              "        document.querySelector('#df-297fa1a7-b36d-4ebc-b8ae-b7bd1c64ee62 button.colab-df-convert');\n",
              "      buttonEl.style.display =\n",
              "        google.colab.kernel.accessAllowed ? 'block' : 'none';\n",
              "\n",
              "      async function convertToInteractive(key) {\n",
              "        const element = document.querySelector('#df-297fa1a7-b36d-4ebc-b8ae-b7bd1c64ee62');\n",
              "        const dataTable =\n",
              "          await google.colab.kernel.invokeFunction('convertToInteractive',\n",
              "                                                    [key], {});\n",
              "        if (!dataTable) return;\n",
              "\n",
              "        const docLinkHtml = 'Like what you see? Visit the ' +\n",
              "          '<a target=\"_blank\" href=https://colab.research.google.com/notebooks/data_table.ipynb>data table notebook</a>'\n",
              "          + ' to learn more about interactive tables.';\n",
              "        element.innerHTML = '';\n",
              "        dataTable['output_type'] = 'display_data';\n",
              "        await google.colab.output.renderOutput(dataTable, element);\n",
              "        const docLink = document.createElement('div');\n",
              "        docLink.innerHTML = docLinkHtml;\n",
              "        element.appendChild(docLink);\n",
              "      }\n",
              "    </script>\n",
              "  </div>\n",
              "\n",
              "\n",
              "<div id=\"df-c828d8f6-3dd9-4e22-a360-18cab790805f\">\n",
              "  <button class=\"colab-df-quickchart\" onclick=\"quickchart('df-c828d8f6-3dd9-4e22-a360-18cab790805f')\"\n",
              "            title=\"Suggest charts\"\n",
              "            style=\"display:none;\">\n",
              "\n",
              "<svg xmlns=\"http://www.w3.org/2000/svg\" height=\"24px\"viewBox=\"0 0 24 24\"\n",
              "     width=\"24px\">\n",
              "    <g>\n",
              "        <path d=\"M19 3H5c-1.1 0-2 .9-2 2v14c0 1.1.9 2 2 2h14c1.1 0 2-.9 2-2V5c0-1.1-.9-2-2-2zM9 17H7v-7h2v7zm4 0h-2V7h2v10zm4 0h-2v-4h2v4z\"/>\n",
              "    </g>\n",
              "</svg>\n",
              "  </button>\n",
              "\n",
              "<style>\n",
              "  .colab-df-quickchart {\n",
              "      --bg-color: #E8F0FE;\n",
              "      --fill-color: #1967D2;\n",
              "      --hover-bg-color: #E2EBFA;\n",
              "      --hover-fill-color: #174EA6;\n",
              "      --disabled-fill-color: #AAA;\n",
              "      --disabled-bg-color: #DDD;\n",
              "  }\n",
              "\n",
              "  [theme=dark] .colab-df-quickchart {\n",
              "      --bg-color: #3B4455;\n",
              "      --fill-color: #D2E3FC;\n",
              "      --hover-bg-color: #434B5C;\n",
              "      --hover-fill-color: #FFFFFF;\n",
              "      --disabled-bg-color: #3B4455;\n",
              "      --disabled-fill-color: #666;\n",
              "  }\n",
              "\n",
              "  .colab-df-quickchart {\n",
              "    background-color: var(--bg-color);\n",
              "    border: none;\n",
              "    border-radius: 50%;\n",
              "    cursor: pointer;\n",
              "    display: none;\n",
              "    fill: var(--fill-color);\n",
              "    height: 32px;\n",
              "    padding: 0;\n",
              "    width: 32px;\n",
              "  }\n",
              "\n",
              "  .colab-df-quickchart:hover {\n",
              "    background-color: var(--hover-bg-color);\n",
              "    box-shadow: 0 1px 2px rgba(60, 64, 67, 0.3), 0 1px 3px 1px rgba(60, 64, 67, 0.15);\n",
              "    fill: var(--button-hover-fill-color);\n",
              "  }\n",
              "\n",
              "  .colab-df-quickchart-complete:disabled,\n",
              "  .colab-df-quickchart-complete:disabled:hover {\n",
              "    background-color: var(--disabled-bg-color);\n",
              "    fill: var(--disabled-fill-color);\n",
              "    box-shadow: none;\n",
              "  }\n",
              "\n",
              "  .colab-df-spinner {\n",
              "    border: 2px solid var(--fill-color);\n",
              "    border-color: transparent;\n",
              "    border-bottom-color: var(--fill-color);\n",
              "    animation:\n",
              "      spin 1s steps(1) infinite;\n",
              "  }\n",
              "\n",
              "  @keyframes spin {\n",
              "    0% {\n",
              "      border-color: transparent;\n",
              "      border-bottom-color: var(--fill-color);\n",
              "      border-left-color: var(--fill-color);\n",
              "    }\n",
              "    20% {\n",
              "      border-color: transparent;\n",
              "      border-left-color: var(--fill-color);\n",
              "      border-top-color: var(--fill-color);\n",
              "    }\n",
              "    30% {\n",
              "      border-color: transparent;\n",
              "      border-left-color: var(--fill-color);\n",
              "      border-top-color: var(--fill-color);\n",
              "      border-right-color: var(--fill-color);\n",
              "    }\n",
              "    40% {\n",
              "      border-color: transparent;\n",
              "      border-right-color: var(--fill-color);\n",
              "      border-top-color: var(--fill-color);\n",
              "    }\n",
              "    60% {\n",
              "      border-color: transparent;\n",
              "      border-right-color: var(--fill-color);\n",
              "    }\n",
              "    80% {\n",
              "      border-color: transparent;\n",
              "      border-right-color: var(--fill-color);\n",
              "      border-bottom-color: var(--fill-color);\n",
              "    }\n",
              "    90% {\n",
              "      border-color: transparent;\n",
              "      border-bottom-color: var(--fill-color);\n",
              "    }\n",
              "  }\n",
              "</style>\n",
              "\n",
              "  <script>\n",
              "    async function quickchart(key) {\n",
              "      const quickchartButtonEl =\n",
              "        document.querySelector('#' + key + ' button');\n",
              "      quickchartButtonEl.disabled = true;  // To prevent multiple clicks.\n",
              "      quickchartButtonEl.classList.add('colab-df-spinner');\n",
              "      try {\n",
              "        const charts = await google.colab.kernel.invokeFunction(\n",
              "            'suggestCharts', [key], {});\n",
              "      } catch (error) {\n",
              "        console.error('Error during call to suggestCharts:', error);\n",
              "      }\n",
              "      quickchartButtonEl.classList.remove('colab-df-spinner');\n",
              "      quickchartButtonEl.classList.add('colab-df-quickchart-complete');\n",
              "    }\n",
              "    (() => {\n",
              "      let quickchartButtonEl =\n",
              "        document.querySelector('#df-c828d8f6-3dd9-4e22-a360-18cab790805f button');\n",
              "      quickchartButtonEl.style.display =\n",
              "        google.colab.kernel.accessAllowed ? 'block' : 'none';\n",
              "    })();\n",
              "  </script>\n",
              "</div>\n",
              "\n",
              "    </div>\n",
              "  </div>\n"
            ],
            "application/vnd.google.colaboratory.intrinsic+json": {
              "type": "dataframe",
              "variable_name": "new_sales_items_data",
              "summary": "{\n  \"name\": \"new_sales_items_data\",\n  \"rows\": 16,\n  \"fields\": [\n    {\n      \"column\": \"INGESTION_ID\",\n      \"properties\": {\n        \"dtype\": \"number\",\n        \"std\": 0,\n        \"min\": 3,\n        \"max\": 4,\n        \"num_unique_values\": 2,\n        \"samples\": [\n          4,\n          3\n        ],\n        \"semantic_type\": \"\",\n        \"description\": \"\"\n      }\n    },\n    {\n      \"column\": \"INGESTED_AT\",\n      \"properties\": {\n        \"dtype\": \"object\",\n        \"num_unique_values\": 2,\n        \"samples\": [\n          \"2023-04-11 09:30:15.123000\",\n          \"2023-04-06 08:28:53.892000\"\n        ],\n        \"semantic_type\": \"\",\n        \"description\": \"\"\n      }\n    },\n    {\n      \"column\": \"CREDIT_CARD_NUMBER\",\n      \"properties\": {\n        \"dtype\": \"number\",\n        \"std\": 1581958186982840576,\n        \"min\": 1234567890123456,\n        \"max\": 6333020302312124279,\n        \"num_unique_values\": 15,\n        \"samples\": [\n          9876543210123456,\n          5678901230987654\n        ],\n        \"semantic_type\": \"\",\n        \"description\": \"\"\n      }\n    },\n    {\n      \"column\": \"DATE_TIME\",\n      \"properties\": {\n        \"dtype\": \"object\",\n        \"num_unique_values\": 16,\n        \"samples\": [\n          \"2022-12-07 22:57:35\",\n          \"2023-02-11 20:01:45\"\n        ],\n        \"semantic_type\": \"\",\n        \"description\": \"\"\n      }\n    },\n    {\n      \"column\": \"ID\",\n      \"properties\": {\n        \"dtype\": \"string\",\n        \"num_unique_values\": 16,\n        \"samples\": [\n          \"4cd1974f5be885220ab629a5228c2ebf\",\n          \"0aba79867bd7d7b7823264e9408d095b\"\n        ],\n        \"semantic_type\": \"\",\n        \"description\": \"\"\n      }\n    },\n    {\n      \"column\": \"ITEMS\",\n      \"properties\": {\n        \"dtype\": \"string\",\n        \"num_unique_values\": 14,\n        \"samples\": [\n          \"[\\\"Jacket\\\",\\\"Pants\\\",\\\"Loafers\\\"]\",\n          \"[\\\"Blouse\\\",\\\"Skirt\\\",\\\"Heels\\\"]\"\n        ],\n        \"semantic_type\": \"\",\n        \"description\": \"\"\n      }\n    }\n  ]\n}"
            }
          },
          "metadata": {},
          "execution_count": 22
        }
      ]
    },
    {
      "cell_type": "code",
      "source": [
        "# now lets write the new_sales_items_data data into temp table and show the new snowpark df\n",
        "\n",
        "new_sales_items_data_snowpark_temp = session.write_pandas(\n",
        "    df = new_sales_items_data,\n",
        "    table_name= \"new_sales_items_data\",\n",
        "    overwrite=True,\n",
        "    auto_create_table=True,\n",
        "    table_type=\"temp\",\n",
        "    quote_identifiers=False\n",
        ")\n",
        "\n",
        "new_sales_items_data_snowpark_temp.show()"
      ],
      "metadata": {
        "colab": {
          "base_uri": "https://localhost:8080/"
        },
        "id": "KjFu8lQmDsP0",
        "outputId": "8beab797-dacf-4a8a-c7cc-be5400191ea9"
      },
      "execution_count": 23,
      "outputs": [
        {
          "output_type": "stream",
          "name": "stdout",
          "text": [
            "--------------------------------------------------------------------------------------------------------------------------------------------------------------------\n",
            "|\"INGESTION_ID\"  |\"INGESTED_AT\"               |\"CREDIT_CARD_NUMBER\"  |\"DATE_TIME\"          |\"ID\"                              |\"ITEMS\"                             |\n",
            "--------------------------------------------------------------------------------------------------------------------------------------------------------------------\n",
            "|3               |2023-04-06 08:28:53.892000  |3534118906250666      |2022-12-07 22:57:35  |4cd1974f5be885220ab629a5228c2ebf  |[\"Blazer\",\"Slacks\",\"Loafers\"]       |\n",
            "|3               |2023-04-06 08:28:53.892000  |3575177399469647      |2023-02-11 20:01:45  |0aba79867bd7d7b7823264e9408d095b  |[\"Button-up Shirt\",\"Khakis\"]        |\n",
            "|3               |2023-04-06 08:28:53.892000  |6333020302312124279   |2023-03-09 11:22:30  |0484eb3108c06aed5e6a354e5203d721  |[\"Vest\",\"Jeans\",\"Sneakers\"]         |\n",
            "|3               |2023-04-06 08:28:53.892000  |3551078881931920      |2023-02-12 22:10:49  |5ff7f4e02b59ad20f55f53b94a77368f  |[\"Crop Top\",\"Shorts\"]               |\n",
            "|3               |2023-04-06 08:28:53.892000  |3537111546909475      |2023-03-16 06:46:57  |4b48465f9060140312d689dfd076a71f  |[\"Sweater Dress\",\"Tights\",\"Heels\"]  |\n",
            "|3               |2023-04-06 08:28:53.892000  |3557546242325275      |2022-08-23 11:26:17  |cd1675b2f0e20c56c8ea1f3e47afc577  |[\"Turtleneck\",\"Corduroy Pants\"]     |\n",
            "|4               |2023-04-11 09:30:15.123000  |1234567890123456      |2023-04-10 18:15:30  |83f15e2fbb7f1b2208ef8423f07f54e8  |[\"T-Shirt\",\"Jeans\",\"Sneakers\"]      |\n",
            "|4               |2023-04-11 09:30:15.123000  |9876543210987654      |2023-04-09 21:45:10  |f439b6fc0f0bc8f2317b36afbdca19f7  |[\"Hoodie\",\"Leggings\",\"Boots\"]       |\n",
            "|4               |2023-04-11 09:30:15.123000  |5678901234567890      |2023-04-08 14:30:45  |3b095264fc87e528edf91e16f2d51cd1  |[\"Dress\",\"Sandals\"]                 |\n",
            "|4               |2023-04-11 09:30:15.123000  |9876543210123456      |2023-04-07 10:20:15  |83ff2aa7d37d0e7836ca5cf6f5c5a5d2  |[\"Jacket\",\"Pants\",\"Loafers\"]        |\n",
            "--------------------------------------------------------------------------------------------------------------------------------------------------------------------\n",
            "\n"
          ]
        }
      ]
    },
    {
      "cell_type": "code",
      "source": [
        "\n",
        "# let do the actual merge\n",
        "\n",
        "target = session.table(\"sales_items\")\n",
        "\n",
        "merged = target.merge(\n",
        "    source=new_sales_items_data_snowpark_temp,\n",
        "    join_expr=(target[\"ID\"] == new_sales_items_data_snowpark_temp[\"ID\"]),\n",
        "    clauses=[\n",
        "        when_not_matched().insert(\n",
        "            {\n",
        "                \"INGESTION_ID\" : new_sales_items_data_snowpark_temp[\"INGESTION_ID\"],\n",
        "                \"INGESTED_AT\" : new_sales_items_data_snowpark_temp[\"INGESTED_AT\"],\n",
        "                \"creditCardNumber\" : new_sales_items_data_snowpark_temp[\"CREDIT_CARD_NUMBER\"],\n",
        "                \"DATETIME\" : new_sales_items_data_snowpark_temp[\"DATE_TIME\"],\n",
        "                \"ID\" : new_sales_items_data_snowpark_temp[\"ID\"],\n",
        "                \"ITEMS\" : parse_json(new_sales_items_data_snowpark_temp[\"ITEMS\"])\n",
        "            }\n",
        "        )\n",
        "    ]\n",
        "\n",
        ")\n",
        "\n",
        "merged"
      ],
      "metadata": {
        "colab": {
          "base_uri": "https://localhost:8080/"
        },
        "id": "1XYMRMQWFCt_",
        "outputId": "18ee2547-b28a-41f4-d057-f0acd1c6a691"
      },
      "execution_count": 24,
      "outputs": [
        {
          "output_type": "execute_result",
          "data": {
            "text/plain": [
              "MergeResult(rows_inserted=10, rows_updated=0, rows_deleted=0)"
            ]
          },
          "metadata": {},
          "execution_count": 24
        }
      ]
    },
    {
      "cell_type": "markdown",
      "source": [
        "# **Read**"
      ],
      "metadata": {
        "id": "s2ZiSohh8zv6"
      }
    },
    {
      "cell_type": "code",
      "source": [
        "# uploading the local file into stage\n",
        "session.file.put(\"/content/drive/MyDrive/Colab Notebooks/Snowflake_Snowpark_1sttry/new_sales.json\",\"@SF_SP_STAGE\",auto_compress = False)\n",
        "session.file.put(\"/content/drive/MyDrive/Colab Notebooks/Snowflake_Snowpark_1sttry/new_sales_items.json\",\"@SF_SP_STAGE\",auto_compress = False)\n"
      ],
      "metadata": {
        "colab": {
          "base_uri": "https://localhost:8080/"
        },
        "id": "HpdzNMEDIMNZ",
        "outputId": "16ac68f9-53a1-42cd-ffe6-1774353b6a1c"
      },
      "execution_count": 25,
      "outputs": [
        {
          "output_type": "execute_result",
          "data": {
            "text/plain": [
              "[PutResult(source='new_sales_items.json', target='new_sales_items.json', source_size=3648, target_size=3664, source_compression='NONE', target_compression='NONE', status='UPLOADED', message='')]"
            ]
          },
          "metadata": {},
          "execution_count": 25
        }
      ]
    },
    {
      "cell_type": "code",
      "source": [
        "# displaying the content of the file.\n",
        "\n",
        "json = session.read.options({\"STRIP_OUTER_ARRAY\":True}).json(\"@SF_SP_STAGE/new_sales_items.json\")\n",
        "json.show()"
      ],
      "metadata": {
        "colab": {
          "base_uri": "https://localhost:8080/"
        },
        "id": "gyOL0UrQQ2dQ",
        "outputId": "2bdf27ba-58e8-4d2d-dcd3-8691ccb283c8"
      },
      "execution_count": 26,
      "outputs": [
        {
          "output_type": "stream",
          "name": "stdout",
          "text": [
            "------------------------------------------------------\n",
            "|\"$1\"                                                |\n",
            "------------------------------------------------------\n",
            "|{                                                   |\n",
            "|  \"creditCardNumber\": \"3552372594286931\",           |\n",
            "|  \"dateTime\": \"2022-12-15 01:17:57\",                |\n",
            "|  \"id\": \"eeb62e335642e773c8c1ced13fe86c06e96d08...  |\n",
            "|  \"items\": [                                        |\n",
            "|    \"Polo shirt\",                                   |\n",
            "|    \"Shorts\",                                       |\n",
            "|    \"Sandals\"                                       |\n",
            "|  ]                                                 |\n",
            "|}                                                   |\n",
            "|{                                                   |\n",
            "|  \"creditCardNumber\": \"5038306986883304079\",        |\n",
            "|  \"dateTime\": \"2023-01-03 10:05:00\",                |\n",
            "|  \"id\": \"ad187740d176791cd73aab91956c78974b720a...  |\n",
            "|  \"items\": [                                        |\n",
            "|    \"Blue Jeans\",                                   |\n",
            "|    \"White T-shirt\",                                |\n",
            "|    \"Black Sneakers\"                                |\n",
            "|  ]                                                 |\n",
            "|}                                                   |\n",
            "|{                                                   |\n",
            "|  \"creditCardNumber\": \"3535351427856427\",           |\n",
            "|  \"dateTime\": \"2022-08-31 13:54:49\",                |\n",
            "|  \"id\": \"61d49b03b011efc73e536560cc43f1d6c3a553...  |\n",
            "|  \"items\": [                                        |\n",
            "|    \"Striped Dress\",                                |\n",
            "|    \"Silver Earrings\",                              |\n",
            "|    \"Brown Sandals\",                                |\n",
            "|    \"Leather Belt\"                                  |\n",
            "|  ]                                                 |\n",
            "|}                                                   |\n",
            "|{                                                   |\n",
            "|  \"creditCardNumber\": \"1234567812345678\",           |\n",
            "|  \"dateTime\": \"2022-09-15 10:20:30\",                |\n",
            "|  \"id\": \"a1b2c3d4e5f6a7b8c9d0e1f2a3b4c5d6e7f8a9...  |\n",
            "|  \"items\": [                                        |\n",
            "|    \"T-shirt\",                                      |\n",
            "|    \"Jeans\",                                        |\n",
            "|    \"Sneakers\"                                      |\n",
            "|  ]                                                 |\n",
            "|}                                                   |\n",
            "|{                                                   |\n",
            "|  \"creditCardNumber\": \"2345678923456789\",           |\n",
            "|  \"dateTime\": \"2022-10-25 11:30:15\",                |\n",
            "|  \"id\": \"b1c2d3e4f5a6b7c8d9e0f1a2b3c4d5e6f7a8b9...  |\n",
            "|  \"items\": [                                        |\n",
            "|    \"Dress\",                                        |\n",
            "|    \"Sandals\"                                       |\n",
            "|  ]                                                 |\n",
            "|}                                                   |\n",
            "|{                                                   |\n",
            "|  \"creditCardNumber\": \"3456789034567890\",           |\n",
            "|  \"dateTime\": \"2022-11-23 12:40:00\",                |\n",
            "|  \"id\": \"c1d2e3f4a5b6c7d8e9f0a1b2c3d4e5f6a7b8c9...  |\n",
            "|  \"items\": [                                        |\n",
            "|    \"Shirt\",                                        |\n",
            "|    \"Shorts\",                                       |\n",
            "|    \"Flip flops\"                                    |\n",
            "|  ]                                                 |\n",
            "|}                                                   |\n",
            "|{                                                   |\n",
            "|  \"creditCardNumber\": \"4567890145678901\",           |\n",
            "|  \"dateTime\": \"2023-01-18 13:20:35\",                |\n",
            "|  \"id\": \"d1e2f3a4b5c6d7e8f9a0b1c2d3e4f5a6b7c8d9...  |\n",
            "|  \"items\": [                                        |\n",
            "|    \"Blouse\",                                       |\n",
            "|    \"Skirt\",                                        |\n",
            "|    \"Heels\"                                         |\n",
            "|  ]                                                 |\n",
            "|}                                                   |\n",
            "|{                                                   |\n",
            "|  \"creditCardNumber\": \"5678901256789012\",           |\n",
            "|  \"dateTime\": \"2023-02-08 14:10:10\",                |\n",
            "|  \"id\": \"e1f2a3b4c5d6e7f8a9b0c1d2e3f4a5b6c7d8e9...  |\n",
            "|  \"items\": [                                        |\n",
            "|    \"Sweater\",                                      |\n",
            "|    \"Pants\",                                        |\n",
            "|    \"Boots\"                                         |\n",
            "|  ]                                                 |\n",
            "|}                                                   |\n",
            "|{                                                   |\n",
            "|  \"creditCardNumber\": \"6789012367890123\",           |\n",
            "|  \"dateTime\": \"2022-10-12 15:35:40\",                |\n",
            "|  \"id\": \"1a2b3c4d5e6f7a8b9c0d1e2f3a4b5c6d7e8f9a...  |\n",
            "|  \"items\": [                                        |\n",
            "|    \"T-shirt\",                                      |\n",
            "|    \"Jeans\",                                        |\n",
            "|    \"Sneakers\"                                      |\n",
            "|  ]                                                 |\n",
            "|}                                                   |\n",
            "|{                                                   |\n",
            "|  \"creditCardNumber\": \"7890123478901234\",           |\n",
            "|  \"dateTime\": \"2022-11-22 16:45:25\",                |\n",
            "|  \"id\": \"2a3b4c5d6e7f8a9b0c1d2e3f4a5b6c7d8e9f0a...  |\n",
            "|  \"items\": [                                        |\n",
            "|    \"Dress\",                                        |\n",
            "|    \"Sandals\"                                       |\n",
            "|  ]                                                 |\n",
            "|}                                                   |\n",
            "------------------------------------------------------\n",
            "\n"
          ]
        }
      ]
    },
    {
      "cell_type": "markdown",
      "source": [
        "# **Applying Automation**"
      ],
      "metadata": {
        "id": "Dk9SWKjPV0HS"
      }
    },
    {
      "cell_type": "code",
      "source": [
        "extract_sales = (\n",
        "    sales\n",
        "    .join_table_function(\"flatten\", col(\"data\"))\n",
        "    .withColumn(\"credit_card_number\", json_extract_path_text(\"value\",lit(\"creditCardNumber\")))\n",
        "    .withColumn(\"credit_card_type\", json_extract_path_text(\"value\",lit(\"creditCardType\")))\n",
        "    .withColumn(\"date_time\", json_extract_path_text(\"value\",lit(\"dateTime\")))\n",
        "    .withColumn(\"id\", md5(json_extract_path_text(\"value\",lit(\"id\"))))\n",
        "    .withColumn(\"sale_amount\", (json_extract_path_text(\"value\",lit(\"saleAmount\"))))\n",
        "    .select(\"credit_card_number\",\"credit_card_type\", \"date_time\",\"id\",\"sale_amount\")\n",
        ")"
      ],
      "metadata": {
        "id": "Ux48HQoGUbTb"
      },
      "execution_count": 38,
      "outputs": []
    },
    {
      "cell_type": "code",
      "source": [
        "extract_sales_items = (\n",
        "    sales_items\n",
        "    .join_table_function(\"flatten\", col(\"data\"))\n",
        "    .withColumn(\"credit_card_number\", json_extract_path_text(\"value\",lit(\"creditCardNumber\")))\n",
        "    .withColumn(\"date_time\", json_extract_path_text(\"value\",lit(\"dateTime\")))\n",
        "    .withColumn(\"id\", md5(json_extract_path_text(\"value\",lit(\"id\"))))\n",
        "    .withColumn(\"items\", sort_alphabetically(parse_json(json_extract_path_text(\"value\",lit(\"items\")))))\n",
        "    .select(\"credit_card_number\", \"date_time\",\"id\",\"items\")\n",
        ")"
      ],
      "metadata": {
        "id": "F7OSIQADXnTk"
      },
      "execution_count": 39,
      "outputs": []
    },
    {
      "cell_type": "code",
      "source": [
        "join_sales_and_sales_items = (\n",
        "    extract_sales.join(\n",
        "        right = extract_sales_items,\n",
        "        on = extract_sales.id == extract_sales_items.id,\n",
        "        rsuffix = \"_si\"\n",
        "    )\n",
        "    .select(\n",
        "        \"credit_card_number\",\n",
        "        \"date_time\",\"id\", \"items\",\n",
        "        \"sale_amount\"\n",
        "    )\n",
        ")\n",
        "\n"
      ],
      "metadata": {
        "id": "Q06bTb93YJjJ"
      },
      "execution_count": 40,
      "outputs": []
    },
    {
      "cell_type": "code",
      "source": [
        "join_sales_and_sales_items.write.mode(\"overwrite\").save_as_table(\n",
        "    table_name = \"sales_data\"\n",
        ")"
      ],
      "metadata": {
        "id": "0kltXRtst3ti"
      },
      "execution_count": 41,
      "outputs": []
    },
    {
      "cell_type": "code",
      "source": [
        "join_sales_and_sales_items.show()"
      ],
      "metadata": {
        "colab": {
          "base_uri": "https://localhost:8080/"
        },
        "id": "MOhg9-F_uFoK",
        "outputId": "beaba03a-a138-452f-9c1f-4aad4247a43b"
      },
      "execution_count": 42,
      "outputs": [
        {
          "output_type": "stream",
          "name": "stdout",
          "text": [
            "------------------------------------------------------------------------------------------------------------------------\n",
            "|\"CREDIT_CARD_NUMBER\"  |\"DATE_TIME\"          |\"ID\"                              |\"ITEMS\"               |\"SALE_AMOUNT\"  |\n",
            "------------------------------------------------------------------------------------------------------------------------\n",
            "|30211992825494        |2022-04-06 12:24:38  |690863fd43c06792f23fdc2700ae090e  |[                     |302.2          |\n",
            "|                      |                     |                                  |  \"Jeans\",            |               |\n",
            "|                      |                     |                                  |  \"Sneakers\",         |               |\n",
            "|                      |                     |                                  |  \"T-shirt\"           |               |\n",
            "|                      |                     |                                  |]                     |               |\n",
            "|4405443328071522      |2023-02-16 10:21:46  |2b0de9a34332c8f27f11d07d11b4eaa2  |[                     |279.17         |\n",
            "|                      |                     |                                  |  \"Dress\",            |               |\n",
            "|                      |                     |                                  |  \"Sandals\"           |               |\n",
            "|                      |                     |                                  |]                     |               |\n",
            "|3579855610552574      |2022-06-01 23:16:18  |be83739b50b41880570c132f092d57ae  |[                     |445.47         |\n",
            "|                      |                     |                                  |  \"Flip flops\",       |               |\n",
            "|                      |                     |                                  |  \"Shirt\",            |               |\n",
            "|                      |                     |                                  |  \"Shorts\"            |               |\n",
            "|                      |                     |                                  |]                     |               |\n",
            "|50383603573914002     |2022-06-29 01:56:53  |7e25f863e835c2b79819a6a4f8e5ff98  |[                     |73.93          |\n",
            "|                      |                     |                                  |  \"Blouse\",           |               |\n",
            "|                      |                     |                                  |  \"Heels\",            |               |\n",
            "|                      |                     |                                  |  \"Skirt\"             |               |\n",
            "|                      |                     |                                  |]                     |               |\n",
            "|5602228690840960      |2022-10-16 22:37:15  |80d550a377048cce1270c0c025d1e91e  |[                     |640.69         |\n",
            "|                      |                     |                                  |  \"Boots\",            |               |\n",
            "|                      |                     |                                  |  \"Pants\",            |               |\n",
            "|                      |                     |                                  |  \"Sweater\"           |               |\n",
            "|                      |                     |                                  |]                     |               |\n",
            "|5100144013918382      |2023-01-18 21:32:30  |f54d9d5bf9fcddea178a9aa3cfa55a06  |[                     |212.51         |\n",
            "|                      |                     |                                  |  \"Jacket\",           |               |\n",
            "|                      |                     |                                  |  \"Jeans\"             |               |\n",
            "|                      |                     |                                  |]                     |               |\n",
            "|3566731438126971      |2022-05-22 22:17:52  |8e67ebae8673b905c051378a4012cfff  |[                     |633.21         |\n",
            "|                      |                     |                                  |  \"Hoodie\",           |               |\n",
            "|                      |                     |                                  |  \"Leggings\",         |               |\n",
            "|                      |                     |                                  |  \"Sneakers\"          |               |\n",
            "|                      |                     |                                  |]                     |               |\n",
            "|3552372594286931      |2022-12-15 01:17:57  |03461037872a2a49d7e17a26e590fc54  |[                     |359.57         |\n",
            "|                      |                     |                                  |  \"Polo shirt\",       |               |\n",
            "|                      |                     |                                  |  \"Sandals\",          |               |\n",
            "|                      |                     |                                  |  \"Shorts\"            |               |\n",
            "|                      |                     |                                  |]                     |               |\n",
            "|5038306986883304079   |2023-01-03 10:05:00  |69359a2361ebd3ba9e27a5dbdd4ec44f  |[                     |208.23         |\n",
            "|                      |                     |                                  |  \"Black Sneakers\",   |               |\n",
            "|                      |                     |                                  |  \"Blue Jeans\",       |               |\n",
            "|                      |                     |                                  |  \"White T-shirt\"     |               |\n",
            "|                      |                     |                                  |]                     |               |\n",
            "|3535351427856427      |2022-08-31 13:54:49  |1aeea42a1a5233bb39f762191af256cc  |[                     |725.71         |\n",
            "|                      |                     |                                  |  \"Brown Sandals\",    |               |\n",
            "|                      |                     |                                  |  \"Leather Belt\",     |               |\n",
            "|                      |                     |                                  |  \"Silver Earrings\",  |               |\n",
            "|                      |                     |                                  |  \"Striped Dress\"     |               |\n",
            "|                      |                     |                                  |]                     |               |\n",
            "------------------------------------------------------------------------------------------------------------------------\n",
            "\n"
          ]
        }
      ]
    }
  ]
}